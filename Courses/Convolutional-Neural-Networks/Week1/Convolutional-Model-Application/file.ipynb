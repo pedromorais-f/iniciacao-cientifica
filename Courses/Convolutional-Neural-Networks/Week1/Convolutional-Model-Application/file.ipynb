{
 "cells": [
  {
   "cell_type": "markdown",
   "id": "17a3016c",
   "metadata": {},
   "source": [
    "# 1 - Packages"
   ]
  },
  {
   "cell_type": "code",
   "execution_count": 2,
   "id": "2541ad14",
   "metadata": {
    "ExecuteTime": {
     "end_time": "2023-04-27T05:22:24.021409Z",
     "start_time": "2023-04-27T05:22:18.675983Z"
    }
   },
   "outputs": [
    {
     "name": "stderr",
     "output_type": "stream",
     "text": [
      "2023-04-27 02:22:20.543636: I tensorflow/tsl/cuda/cudart_stub.cc:28] Could not find cuda drivers on your machine, GPU will not be used.\n",
      "2023-04-27 02:22:20.987302: I tensorflow/tsl/cuda/cudart_stub.cc:28] Could not find cuda drivers on your machine, GPU will not be used.\n",
      "2023-04-27 02:22:20.988631: I tensorflow/core/platform/cpu_feature_guard.cc:182] This TensorFlow binary is optimized to use available CPU instructions in performance-critical operations.\n",
      "To enable the following instructions: AVX2 FMA, in other operations, rebuild TensorFlow with the appropriate compiler flags.\n",
      "2023-04-27 02:22:22.356124: W tensorflow/compiler/tf2tensorrt/utils/py_utils.cc:38] TF-TRT Warning: Could not find TensorRT\n"
     ]
    }
   ],
   "source": [
    "import math\n",
    "import numpy as np\n",
    "import h5py\n",
    "import matplotlib.pyplot as plt\n",
    "from matplotlib.pyplot import imread\n",
    "import scipy\n",
    "from PIL import Image\n",
    "import pandas as pd\n",
    "import tensorflow as tf\n",
    "import keras.layers as tfl\n",
    "from tensorflow.python.framework import ops\n",
    "from cnn_utils import *\n",
    "from test_utils import summary, comparator\n",
    "\n",
    "%matplotlib inline\n",
    "np.random.seed(1)"
   ]
  },
  {
   "cell_type": "code",
   "execution_count": 3,
   "id": "915ff64b",
   "metadata": {
    "ExecuteTime": {
     "end_time": "2023-04-27T05:22:24.102779Z",
     "start_time": "2023-04-27T05:22:24.023775Z"
    }
   },
   "outputs": [
    {
     "name": "stdout",
     "output_type": "stream",
     "text": [
      "number of training examples = 600\n",
      "number of test examples = 150\n",
      "X_train shape: (600, 64, 64, 3)\n",
      "Y_train shape: (600, 1)\n",
      "X_test shape: (150, 64, 64, 3)\n",
      "Y_test shape: (150, 1)\n"
     ]
    }
   ],
   "source": [
    "X_train_orig, Y_train_orig, X_test_orig, Y_test_orig, classes = load_happy_dataset()\n",
    "\n",
    "# Normalize image vectors\n",
    "X_train = X_train_orig/255.\n",
    "X_test = X_test_orig/255.\n",
    "\n",
    "# Reshape\n",
    "Y_train = Y_train_orig.T\n",
    "Y_test = Y_test_orig.T\n",
    "\n",
    "print (\"number of training examples = \" + str(X_train.shape[0]))\n",
    "print (\"number of test examples = \" + str(X_test.shape[0]))\n",
    "print (\"X_train shape: \" + str(X_train.shape))\n",
    "print (\"Y_train shape: \" + str(Y_train.shape))\n",
    "print (\"X_test shape: \" + str(X_test.shape))\n",
    "print (\"Y_test shape: \" + str(Y_test.shape))"
   ]
  },
  {
   "cell_type": "code",
   "execution_count": 4,
   "id": "e25d7872",
   "metadata": {
    "ExecuteTime": {
     "end_time": "2023-04-27T05:22:24.272367Z",
     "start_time": "2023-04-27T05:22:24.104555Z"
    },
    "scrolled": true
   },
   "outputs": [
    {
     "data": {
      "image/png": "[encoded data removed]",
      "text/plain": [
       "<Figure size 640x480 with 1 Axes>"
      ]
     },
     "metadata": {},
     "output_type": "display_data"
    }
   ],
   "source": [
    "index = 5\n",
    "plt.imshow(X_train_orig[index]) #display sample training image\n",
    "plt.show()"
   ]
  },
  {
   "cell_type": "markdown",
   "id": "f7f4aa9f",
   "metadata": {},
   "source": [
    "# 2 - The Sequential API"
   ]
  },
  {
   "cell_type": "code",
   "execution_count": 5,
   "id": "ae050f55",
   "metadata": {
    "ExecuteTime": {
     "end_time": "2023-04-27T05:23:08.456669Z",
     "start_time": "2023-04-27T05:23:08.452011Z"
    }
   },
   "outputs": [],
   "source": [
    "# GRADED FUNCTION: happyModel\n",
    "def happyModel():\n",
    "    model = tf.keras.Sequential([\n",
    "            ## ZeroPadding2D with padding 3, input shape of 64 x 64 x 3\n",
    "            tfl.ZeroPadding2D(padding=(3, 3), input_shape=(64, 64, 3)),\n",
    "            ## Conv2D with 32 7x7 filters and stride of 1\n",
    "            tfl.Conv2D(32, (7,7)),\n",
    "            ## BatchNormalization for axis 3\n",
    "            tfl.BatchNormalization(axis=-1),\n",
    "            ## ReLU\n",
    "            tfl.ReLU(),\n",
    "            ## Max Pooling 2D with default parameters\n",
    "            tfl.MaxPool2D(),\n",
    "            ## Flatten layer\n",
    "            tfl.Flatten(),\n",
    "            ## Dense layer with 1 unit for output & 'sigmoid' activation\n",
    "            tfl.Dense(1, activation='sigmoid')\n",
    "        ])\n",
    "    \n",
    "    return model"
   ]
  },
  {
   "cell_type": "code",
   "execution_count": 6,
   "id": "8289f7ef",
   "metadata": {
    "ExecuteTime": {
     "end_time": "2023-04-27T05:23:21.624211Z",
     "start_time": "2023-04-27T05:23:21.307994Z"
    }
   },
   "outputs": [
    {
     "name": "stdout",
     "output_type": "stream",
     "text": [
      "['ZeroPadding2D', (None, 70, 70, 3), 0, ((3, 3), (3, 3))]\n",
      "['Conv2D', (None, 64, 64, 32), 4736, 'valid', 'linear', 'GlorotUniform']\n",
      "['BatchNormalization', (None, 64, 64, 32), 128]\n",
      "['ReLU', (None, 64, 64, 32), 0]\n",
      "['MaxPooling2D', (None, 32, 32, 32), 0, (2, 2), (2, 2), 'valid']\n",
      "['Flatten', (None, 32768), 0]\n",
      "['Dense', (None, 1), 32769, 'sigmoid']\n",
      "\u001b[32mAll tests passed!\u001b[0m\n"
     ]
    },
    {
     "name": "stderr",
     "output_type": "stream",
     "text": [
      "2023-04-27 02:23:21.501122: I tensorflow/compiler/xla/stream_executor/cuda/cuda_gpu_executor.cc:982] could not open file to read NUMA node: /sys/bus/pci/devices/0000:01:00.0/numa_node\n",
      "Your kernel may have been built without NUMA support.\n",
      "2023-04-27 02:23:21.501531: W tensorflow/core/common_runtime/gpu/gpu_device.cc:1956] Cannot dlopen some GPU libraries. Please make sure the missing libraries mentioned above are installed properly if you would like to use GPU. Follow the guide at https://www.tensorflow.org/install/gpu for how to download and setup the required libraries for your platform.\n",
      "Skipping registering GPU devices...\n"
     ]
    }
   ],
   "source": [
    "happy_model = happyModel()\n",
    "# Print a summary for each layer\n",
    "for layer in summary(happy_model):\n",
    "    print(layer)\n",
    "    \n",
    "output = [['ZeroPadding2D', (None, 70, 70, 3), 0, ((3, 3), (3, 3))],\n",
    "            ['Conv2D', (None, 64, 64, 32), 4736, 'valid', 'linear', 'GlorotUniform'],\n",
    "            ['BatchNormalization', (None, 64, 64, 32), 128],\n",
    "            ['ReLU', (None, 64, 64, 32), 0],\n",
    "            ['MaxPooling2D', (None, 32, 32, 32), 0, (2, 2), (2, 2), 'valid'],\n",
    "            ['Flatten', (None, 32768), 0],\n",
    "            ['Dense', (None, 1), 32769, 'sigmoid']]\n",
    "    \n",
    "comparator(summary(happy_model), output)"
   ]
  },
  {
   "cell_type": "code",
   "execution_count": 7,
   "id": "87249762",
   "metadata": {
    "ExecuteTime": {
     "end_time": "2023-04-27T05:23:58.717629Z",
     "start_time": "2023-04-27T05:23:58.708814Z"
    }
   },
   "outputs": [],
   "source": [
    "happy_model.compile(optimizer='adam',\n",
    "                   loss='binary_crossentropy',\n",
    "                   metrics=['accuracy'])"
   ]
  },
  {
   "cell_type": "code",
   "execution_count": 8,
   "id": "36128e49",
   "metadata": {
    "ExecuteTime": {
     "end_time": "2023-04-27T05:24:10.527201Z",
     "start_time": "2023-04-27T05:24:10.500029Z"
    }
   },
   "outputs": [
    {
     "name": "stdout",
     "output_type": "stream",
     "text": [
      "Model: \"sequential\"\n",
      "_________________________________________________________________\n",
      " Layer (type)                Output Shape              Param #   \n",
      "=================================================================\n",
      " zero_padding2d (ZeroPadding  (None, 70, 70, 3)        0         \n",
      " 2D)                                                             \n",
      "                                                                 \n",
      " conv2d (Conv2D)             (None, 64, 64, 32)        4736      \n",
      "                                                                 \n",
      " batch_normalization (BatchN  (None, 64, 64, 32)       128       \n",
      " ormalization)                                                   \n",
      "                                                                 \n",
      " re_lu (ReLU)                (None, 64, 64, 32)        0         \n",
      "                                                                 \n",
      " max_pooling2d (MaxPooling2D  (None, 32, 32, 32)       0         \n",
      " )                                                               \n",
      "                                                                 \n",
      " flatten (Flatten)           (None, 32768)             0         \n",
      "                                                                 \n",
      " dense (Dense)               (None, 1)                 32769     \n",
      "                                                                 \n",
      "=================================================================\n",
      "Total params: 37,633\n",
      "Trainable params: 37,569\n",
      "Non-trainable params: 64\n",
      "_________________________________________________________________\n"
     ]
    }
   ],
   "source": [
    "happy_model.summary()"
   ]
  },
  {
   "cell_type": "code",
   "execution_count": 9,
   "id": "50fc0ac9",
   "metadata": {
    "ExecuteTime": {
     "end_time": "2023-04-27T05:25:10.991208Z",
     "start_time": "2023-04-27T05:24:59.916263Z"
    }
   },
   "outputs": [
    {
     "name": "stdout",
     "output_type": "stream",
     "text": [
      "Epoch 1/10\n",
      "38/38 [==============================] - 2s 30ms/step - loss: 1.5358 - accuracy: 0.6683\n",
      "Epoch 2/10\n",
      "38/38 [==============================] - 1s 27ms/step - loss: 0.2567 - accuracy: 0.9067\n",
      "Epoch 3/10\n",
      "38/38 [==============================] - 1s 27ms/step - loss: 0.1515 - accuracy: 0.9417\n",
      "Epoch 4/10\n",
      "38/38 [==============================] - 1s 26ms/step - loss: 0.1295 - accuracy: 0.9367\n",
      "Epoch 5/10\n",
      "38/38 [==============================] - 1s 27ms/step - loss: 0.0905 - accuracy: 0.9700\n",
      "Epoch 6/10\n",
      "38/38 [==============================] - 1s 26ms/step - loss: 0.1056 - accuracy: 0.9633\n",
      "Epoch 7/10\n",
      "38/38 [==============================] - 1s 27ms/step - loss: 0.0789 - accuracy: 0.9733\n",
      "Epoch 8/10\n",
      "38/38 [==============================] - 1s 27ms/step - loss: 0.0748 - accuracy: 0.9683\n",
      "Epoch 9/10\n",
      "38/38 [==============================] - 1s 27ms/step - loss: 0.0606 - accuracy: 0.9800\n",
      "Epoch 10/10\n",
      "38/38 [==============================] - 1s 27ms/step - loss: 0.0525 - accuracy: 0.9800\n"
     ]
    },
    {
     "data": {
      "text/plain": [
       "<keras.callbacks.History at 0x7fbfe7713eb0>"
      ]
     },
     "execution_count": 9,
     "metadata": {},
     "output_type": "execute_result"
    }
   ],
   "source": [
    "happy_model.fit(X_train, Y_train, epochs=10, batch_size=16)"
   ]
  },
  {
   "cell_type": "code",
   "execution_count": 10,
   "id": "c2755b5c",
   "metadata": {
    "ExecuteTime": {
     "end_time": "2023-04-27T05:25:37.456188Z",
     "start_time": "2023-04-27T05:25:37.244799Z"
    }
   },
   "outputs": [
    {
     "name": "stdout",
     "output_type": "stream",
     "text": [
      "5/5 [==============================] - 0s 12ms/step - loss: 0.1432 - accuracy: 0.9333\n"
     ]
    },
    {
     "data": {
      "text/plain": [
       "[0.1432148516178131, 0.9333333373069763]"
      ]
     },
     "execution_count": 10,
     "metadata": {},
     "output_type": "execute_result"
    }
   ],
   "source": [
    "happy_model.evaluate(X_test, Y_test)"
   ]
  },
  {
   "cell_type": "markdown",
   "id": "0548b037",
   "metadata": {},
   "source": [
    "# 3 - The Functional API"
   ]
  },
  {
   "cell_type": "code",
   "execution_count": 11,
   "id": "68dcd5c7",
   "metadata": {
    "ExecuteTime": {
     "end_time": "2023-04-27T05:27:23.293993Z",
     "start_time": "2023-04-27T05:27:23.244606Z"
    }
   },
   "outputs": [],
   "source": [
    "# Loading the data (signs)\n",
    "X_train_orig, Y_train_orig, X_test_orig, Y_test_orig, classes = load_signs_dataset()"
   ]
  },
  {
   "cell_type": "code",
   "execution_count": 12,
   "id": "af362377",
   "metadata": {
    "ExecuteTime": {
     "end_time": "2023-04-27T05:27:33.295879Z",
     "start_time": "2023-04-27T05:27:33.141912Z"
    }
   },
   "outputs": [
    {
     "name": "stdout",
     "output_type": "stream",
     "text": [
      "y = 4\n"
     ]
    },
    {
     "data": {
      "image/png": "[encoded data removed]",
      "text/plain": [
       "<Figure size 640x480 with 1 Axes>"
      ]
     },
     "metadata": {},
     "output_type": "display_data"
    }
   ],
   "source": [
    "# Example of an image from the dataset\n",
    "index = 9\n",
    "plt.imshow(X_train_orig[index])\n",
    "print (\"y = \" + str(np.squeeze(Y_train_orig[:, index])))"
   ]
  },
  {
   "cell_type": "code",
   "execution_count": 13,
   "id": "08cc55ff",
   "metadata": {
    "ExecuteTime": {
     "end_time": "2023-04-27T05:28:00.383793Z",
     "start_time": "2023-04-27T05:28:00.348461Z"
    }
   },
   "outputs": [
    {
     "name": "stdout",
     "output_type": "stream",
     "text": [
      "number of training examples = 1080\n",
      "number of test examples = 120\n",
      "X_train shape: (1080, 64, 64, 3)\n",
      "Y_train shape: (1080, 6)\n",
      "X_test shape: (120, 64, 64, 3)\n",
      "Y_test shape: (120, 6)\n"
     ]
    }
   ],
   "source": [
    "X_train = X_train_orig/255.\n",
    "X_test = X_test_orig/255.\n",
    "Y_train = convert_to_one_hot(Y_train_orig, 6).T\n",
    "Y_test = convert_to_one_hot(Y_test_orig, 6).T\n",
    "print (\"number of training examples = \" + str(X_train.shape[0]))\n",
    "print (\"number of test examples = \" + str(X_test.shape[0]))\n",
    "print (\"X_train shape: \" + str(X_train.shape))\n",
    "print (\"Y_train shape: \" + str(Y_train.shape))\n",
    "print (\"X_test shape: \" + str(X_test.shape))\n",
    "print (\"Y_test shape: \" + str(Y_test.shape))"
   ]
  },
  {
   "cell_type": "code",
   "execution_count": 21,
   "id": "6e84877f",
   "metadata": {
    "ExecuteTime": {
     "end_time": "2023-04-27T05:44:58.515213Z",
     "start_time": "2023-04-27T05:44:58.508590Z"
    }
   },
   "outputs": [],
   "source": [
    "# GRADED FUNCTION: convolutional_model\n",
    "def convolutional_model(input_shape):\n",
    "    input_img = tf.keras.Input(shape=input_shape)\n",
    "    \n",
    "    # CONV2D: 8 filters 4x4, stride of 1, padding 'SAME'\n",
    "    Z1 = tfl.Conv2D(8, 4, activation='linear', padding=\"same\", strides=1)(input_img)\n",
    "    \n",
    "    ## RELU\n",
    "    A1 = tfl.ReLU()(Z1)\n",
    "    \n",
    "    ## MAXPOOL: window 8x8, stride 8, padding 'SAME'\n",
    "    P1 = tfl.MaxPool2D(pool_size=(8, 8), strides=(8, 8), padding='same')(A1)\n",
    "    \n",
    "    ## CONV2D: 16 filters 2x2, stride 1, padding 'SAME'\n",
    "    Z2 = tfl.Conv2D(16, 2, activation='linear', padding=\"same\", strides=1)(P1)\n",
    "    \n",
    "    ## RELU\n",
    "    A2 = tfl.ReLU()(Z2)\n",
    "    \n",
    "    ## MAXPOOL: window 4x4, stride 4, padding 'SAME'\n",
    "    P2 = tfl.MaxPool2D(pool_size=(4, 4), strides=(4, 4), padding='same')(A2)\n",
    "    \n",
    "    ## FLATTEN\n",
    "    F = tfl.Flatten()(P2)\n",
    "    \n",
    "    ## Dense layer\n",
    "    outputs = tfl.Dense(6, activation='softmax')(F)\n",
    "    \n",
    "    model = tf.keras.Model(inputs=input_img, outputs=outputs)\n",
    "    return model"
   ]
  },
  {
   "cell_type": "code",
   "execution_count": 22,
   "id": "d6d624a1",
   "metadata": {
    "ExecuteTime": {
     "end_time": "2023-04-27T05:44:59.450340Z",
     "start_time": "2023-04-27T05:44:59.374408Z"
    }
   },
   "outputs": [
    {
     "name": "stdout",
     "output_type": "stream",
     "text": [
      "Model: \"model_1\"\n",
      "_________________________________________________________________\n",
      " Layer (type)                Output Shape              Param #   \n",
      "=================================================================\n",
      " input_4 (InputLayer)        [(None, 64, 64, 3)]       0         \n",
      "                                                                 \n",
      " conv2d_3 (Conv2D)           (None, 64, 64, 8)         392       \n",
      "                                                                 \n",
      " re_lu_3 (ReLU)              (None, 64, 64, 8)         0         \n",
      "                                                                 \n",
      " max_pooling2d_3 (MaxPooling  (None, 8, 8, 8)          0         \n",
      " 2D)                                                             \n",
      "                                                                 \n",
      " conv2d_4 (Conv2D)           (None, 8, 8, 16)          528       \n",
      "                                                                 \n",
      " re_lu_4 (ReLU)              (None, 8, 8, 16)          0         \n",
      "                                                                 \n",
      " max_pooling2d_4 (MaxPooling  (None, 2, 2, 16)         0         \n",
      " 2D)                                                             \n",
      "                                                                 \n",
      " flatten_2 (Flatten)         (None, 64)                0         \n",
      "                                                                 \n",
      " dense_2 (Dense)             (None, 6)                 390       \n",
      "                                                                 \n",
      "=================================================================\n",
      "Total params: 1,310\n",
      "Trainable params: 1,310\n",
      "Non-trainable params: 0\n",
      "_________________________________________________________________\n",
      "\u001b[32mAll tests passed!\u001b[0m\n"
     ]
    }
   ],
   "source": [
    "conv_model = convolutional_model((64, 64, 3))\n",
    "conv_model.compile(optimizer='adam',\n",
    "                  loss='categorical_crossentropy',\n",
    "                  metrics=['accuracy'])\n",
    "conv_model.summary()\n",
    "    \n",
    "output = [['InputLayer', [(None, 64, 64, 3)], 0],\n",
    "        ['Conv2D', (None, 64, 64, 8), 392, 'same', 'linear', 'GlorotUniform'],\n",
    "        ['ReLU', (None, 64, 64, 8), 0],\n",
    "        ['MaxPooling2D', (None, 8, 8, 8), 0, (8, 8), (8, 8), 'same'],\n",
    "        ['Conv2D', (None, 8, 8, 16), 528, 'same', 'linear', 'GlorotUniform'],\n",
    "        ['ReLU', (None, 8, 8, 16), 0],\n",
    "        ['MaxPooling2D', (None, 2, 2, 16), 0, (4, 4), (4, 4), 'same'],\n",
    "        ['Flatten', (None, 64), 0],\n",
    "        ['Dense', (None, 6), 390, 'softmax']]\n",
    "    \n",
    "comparator(summary(conv_model), output)"
   ]
  },
  {
   "cell_type": "code",
   "execution_count": 23,
   "id": "6af5ba7e",
   "metadata": {
    "ExecuteTime": {
     "end_time": "2023-04-27T05:46:16.522681Z",
     "start_time": "2023-04-27T05:45:39.029404Z"
    }
   },
   "outputs": [
    {
     "name": "stdout",
     "output_type": "stream",
     "text": [
      "Epoch 1/100\n"
     ]
    },
    {
     "name": "stderr",
     "output_type": "stream",
     "text": [
      "2023-04-27 02:45:39.103795: I tensorflow/core/common_runtime/executor.cc:1197] [/device:CPU:0] (DEBUG INFO) Executor start aborting (this does not indicate an error and you can ignore this message): INVALID_ARGUMENT: You must feed a value for placeholder tensor 'Placeholder/_1' with dtype double and shape [1080,6]\n",
      "\t [[{{node Placeholder/_1}}]]\n"
     ]
    },
    {
     "name": "stdout",
     "output_type": "stream",
     "text": [
      "17/17 [==============================] - 1s 27ms/step - loss: 1.8000 - accuracy: 0.1731 - val_loss: 1.7905 - val_accuracy: 0.1833\n",
      "Epoch 2/100\n",
      " 4/17 [======>.......................] - ETA: 0s - loss: 1.7838 - accuracy: 0.2500"
     ]
    },
    {
     "name": "stderr",
     "output_type": "stream",
     "text": [
      "2023-04-27 02:45:39.940379: I tensorflow/core/common_runtime/executor.cc:1197] [/device:CPU:0] (DEBUG INFO) Executor start aborting (this does not indicate an error and you can ignore this message): INVALID_ARGUMENT: You must feed a value for placeholder tensor 'Placeholder/_1' with dtype double and shape [120,6]\n",
      "\t [[{{node Placeholder/_1}}]]\n"
     ]
    },
    {
     "name": "stdout",
     "output_type": "stream",
     "text": [
      "17/17 [==============================] - 0s 22ms/step - loss: 1.7848 - accuracy: 0.2278 - val_loss: 1.7832 - val_accuracy: 0.2083\n",
      "Epoch 3/100\n",
      "17/17 [==============================] - 0s 23ms/step - loss: 1.7783 - accuracy: 0.2454 - val_loss: 1.7785 - val_accuracy: 0.2417\n",
      "Epoch 4/100\n",
      "17/17 [==============================] - 0s 21ms/step - loss: 1.7724 - accuracy: 0.2954 - val_loss: 1.7734 - val_accuracy: 0.3250\n",
      "Epoch 5/100\n",
      "17/17 [==============================] - 0s 21ms/step - loss: 1.7661 - accuracy: 0.3130 - val_loss: 1.7683 - val_accuracy: 0.3500\n",
      "Epoch 6/100\n",
      "17/17 [==============================] - 0s 22ms/step - loss: 1.7595 - accuracy: 0.3324 - val_loss: 1.7618 - val_accuracy: 0.3750\n",
      "Epoch 7/100\n",
      "17/17 [==============================] - 0s 21ms/step - loss: 1.7526 - accuracy: 0.3583 - val_loss: 1.7551 - val_accuracy: 0.4000\n",
      "Epoch 8/100\n",
      "17/17 [==============================] - 0s 22ms/step - loss: 1.7439 - accuracy: 0.3843 - val_loss: 1.7450 - val_accuracy: 0.4250\n",
      "Epoch 9/100\n",
      "17/17 [==============================] - 0s 21ms/step - loss: 1.7338 - accuracy: 0.4009 - val_loss: 1.7355 - val_accuracy: 0.4417\n",
      "Epoch 10/100\n",
      "17/17 [==============================] - 0s 20ms/step - loss: 1.7224 - accuracy: 0.4194 - val_loss: 1.7240 - val_accuracy: 0.4417\n",
      "Epoch 11/100\n",
      "17/17 [==============================] - 0s 21ms/step - loss: 1.7092 - accuracy: 0.4315 - val_loss: 1.7111 - val_accuracy: 0.4250\n",
      "Epoch 12/100\n",
      "17/17 [==============================] - 0s 21ms/step - loss: 1.6944 - accuracy: 0.4380 - val_loss: 1.6968 - val_accuracy: 0.4333\n",
      "Epoch 13/100\n",
      "17/17 [==============================] - 0s 23ms/step - loss: 1.6776 - accuracy: 0.4481 - val_loss: 1.6790 - val_accuracy: 0.4750\n",
      "Epoch 14/100\n",
      "17/17 [==============================] - 0s 21ms/step - loss: 1.6583 - accuracy: 0.4583 - val_loss: 1.6600 - val_accuracy: 0.4750\n",
      "Epoch 15/100\n",
      "17/17 [==============================] - 0s 21ms/step - loss: 1.6359 - accuracy: 0.4667 - val_loss: 1.6392 - val_accuracy: 0.4667\n",
      "Epoch 16/100\n",
      "17/17 [==============================] - 0s 22ms/step - loss: 1.6097 - accuracy: 0.4917 - val_loss: 1.6133 - val_accuracy: 0.4333\n",
      "Epoch 17/100\n",
      "17/17 [==============================] - 0s 22ms/step - loss: 1.5797 - accuracy: 0.5093 - val_loss: 1.5832 - val_accuracy: 0.4917\n",
      "Epoch 18/100\n",
      "17/17 [==============================] - 0s 21ms/step - loss: 1.5472 - accuracy: 0.5194 - val_loss: 1.5527 - val_accuracy: 0.4417\n",
      "Epoch 19/100\n",
      "17/17 [==============================] - 0s 22ms/step - loss: 1.5107 - accuracy: 0.5352 - val_loss: 1.5182 - val_accuracy: 0.4667\n",
      "Epoch 20/100\n",
      "17/17 [==============================] - 0s 22ms/step - loss: 1.4732 - accuracy: 0.5426 - val_loss: 1.4837 - val_accuracy: 0.4500\n",
      "Epoch 21/100\n",
      "17/17 [==============================] - 0s 21ms/step - loss: 1.4335 - accuracy: 0.5537 - val_loss: 1.4491 - val_accuracy: 0.4667\n",
      "Epoch 22/100\n",
      "17/17 [==============================] - 0s 21ms/step - loss: 1.3922 - accuracy: 0.5546 - val_loss: 1.4122 - val_accuracy: 0.5083\n",
      "Epoch 23/100\n",
      "17/17 [==============================] - 0s 21ms/step - loss: 1.3464 - accuracy: 0.5852 - val_loss: 1.3662 - val_accuracy: 0.5417\n",
      "Epoch 24/100\n",
      "17/17 [==============================] - 0s 21ms/step - loss: 1.3032 - accuracy: 0.6009 - val_loss: 1.3270 - val_accuracy: 0.5417\n",
      "Epoch 25/100\n",
      "17/17 [==============================] - 0s 21ms/step - loss: 1.2607 - accuracy: 0.6130 - val_loss: 1.2870 - val_accuracy: 0.5500\n",
      "Epoch 26/100\n",
      "17/17 [==============================] - 0s 20ms/step - loss: 1.2195 - accuracy: 0.6222 - val_loss: 1.2484 - val_accuracy: 0.5667\n",
      "Epoch 27/100\n",
      "17/17 [==============================] - 0s 21ms/step - loss: 1.1790 - accuracy: 0.6333 - val_loss: 1.2111 - val_accuracy: 0.5750\n",
      "Epoch 28/100\n",
      "17/17 [==============================] - 0s 21ms/step - loss: 1.1405 - accuracy: 0.6426 - val_loss: 1.1722 - val_accuracy: 0.5917\n",
      "Epoch 29/100\n",
      "17/17 [==============================] - 0s 21ms/step - loss: 1.1038 - accuracy: 0.6583 - val_loss: 1.1389 - val_accuracy: 0.6000\n",
      "Epoch 30/100\n",
      "17/17 [==============================] - 0s 22ms/step - loss: 1.0695 - accuracy: 0.6676 - val_loss: 1.1058 - val_accuracy: 0.6250\n",
      "Epoch 31/100\n",
      "17/17 [==============================] - 0s 20ms/step - loss: 1.0376 - accuracy: 0.6815 - val_loss: 1.0743 - val_accuracy: 0.6333\n",
      "Epoch 32/100\n",
      "17/17 [==============================] - 0s 21ms/step - loss: 1.0074 - accuracy: 0.6898 - val_loss: 1.0438 - val_accuracy: 0.6250\n",
      "Epoch 33/100\n",
      "17/17 [==============================] - 0s 22ms/step - loss: 0.9792 - accuracy: 0.6926 - val_loss: 1.0145 - val_accuracy: 0.6417\n",
      "Epoch 34/100\n",
      "17/17 [==============================] - 0s 22ms/step - loss: 0.9526 - accuracy: 0.6981 - val_loss: 0.9882 - val_accuracy: 0.6583\n",
      "Epoch 35/100\n",
      "17/17 [==============================] - 0s 21ms/step - loss: 0.9275 - accuracy: 0.7056 - val_loss: 0.9610 - val_accuracy: 0.6500\n",
      "Epoch 36/100\n",
      "17/17 [==============================] - 0s 21ms/step - loss: 0.9043 - accuracy: 0.7167 - val_loss: 0.9385 - val_accuracy: 0.6500\n",
      "Epoch 37/100\n",
      "17/17 [==============================] - 0s 22ms/step - loss: 0.8821 - accuracy: 0.7269 - val_loss: 0.9152 - val_accuracy: 0.6583\n",
      "Epoch 38/100\n",
      "17/17 [==============================] - 0s 21ms/step - loss: 0.8610 - accuracy: 0.7361 - val_loss: 0.8939 - val_accuracy: 0.6667\n",
      "Epoch 39/100\n",
      "17/17 [==============================] - 0s 23ms/step - loss: 0.8405 - accuracy: 0.7472 - val_loss: 0.8724 - val_accuracy: 0.6750\n",
      "Epoch 40/100\n",
      "17/17 [==============================] - 0s 22ms/step - loss: 0.8211 - accuracy: 0.7528 - val_loss: 0.8525 - val_accuracy: 0.6750\n",
      "Epoch 41/100\n",
      "17/17 [==============================] - 0s 22ms/step - loss: 0.8023 - accuracy: 0.7583 - val_loss: 0.8346 - val_accuracy: 0.6917\n",
      "Epoch 42/100\n",
      "17/17 [==============================] - 0s 22ms/step - loss: 0.7847 - accuracy: 0.7667 - val_loss: 0.8181 - val_accuracy: 0.7000\n",
      "Epoch 43/100\n",
      "17/17 [==============================] - 0s 21ms/step - loss: 0.7686 - accuracy: 0.7750 - val_loss: 0.8031 - val_accuracy: 0.7333\n",
      "Epoch 44/100\n",
      "17/17 [==============================] - 0s 22ms/step - loss: 0.7528 - accuracy: 0.7796 - val_loss: 0.7881 - val_accuracy: 0.7333\n",
      "Epoch 45/100\n",
      "17/17 [==============================] - 0s 21ms/step - loss: 0.7383 - accuracy: 0.7861 - val_loss: 0.7745 - val_accuracy: 0.7333\n",
      "Epoch 46/100\n",
      "17/17 [==============================] - 0s 22ms/step - loss: 0.7237 - accuracy: 0.7935 - val_loss: 0.7603 - val_accuracy: 0.7500\n",
      "Epoch 47/100\n",
      "17/17 [==============================] - 0s 22ms/step - loss: 0.7097 - accuracy: 0.7972 - val_loss: 0.7484 - val_accuracy: 0.7667\n",
      "Epoch 48/100\n",
      "17/17 [==============================] - 0s 20ms/step - loss: 0.6968 - accuracy: 0.7981 - val_loss: 0.7361 - val_accuracy: 0.7667\n",
      "Epoch 49/100\n",
      "17/17 [==============================] - 0s 21ms/step - loss: 0.6842 - accuracy: 0.8028 - val_loss: 0.7245 - val_accuracy: 0.7750\n",
      "Epoch 50/100\n",
      "17/17 [==============================] - 0s 21ms/step - loss: 0.6719 - accuracy: 0.8074 - val_loss: 0.7139 - val_accuracy: 0.7833\n",
      "Epoch 51/100\n",
      "17/17 [==============================] - 0s 21ms/step - loss: 0.6602 - accuracy: 0.8111 - val_loss: 0.7031 - val_accuracy: 0.7833\n",
      "Epoch 52/100\n",
      "17/17 [==============================] - 0s 22ms/step - loss: 0.6490 - accuracy: 0.8120 - val_loss: 0.6930 - val_accuracy: 0.7917\n",
      "Epoch 53/100\n",
      "17/17 [==============================] - 0s 20ms/step - loss: 0.6381 - accuracy: 0.8185 - val_loss: 0.6833 - val_accuracy: 0.7917\n",
      "Epoch 54/100\n",
      "17/17 [==============================] - 0s 21ms/step - loss: 0.6276 - accuracy: 0.8213 - val_loss: 0.6743 - val_accuracy: 0.7917\n",
      "Epoch 55/100\n",
      "17/17 [==============================] - 0s 22ms/step - loss: 0.6174 - accuracy: 0.8250 - val_loss: 0.6660 - val_accuracy: 0.7917\n",
      "Epoch 56/100\n",
      "17/17 [==============================] - 0s 22ms/step - loss: 0.6074 - accuracy: 0.8278 - val_loss: 0.6582 - val_accuracy: 0.8000\n",
      "Epoch 57/100\n",
      "17/17 [==============================] - 0s 22ms/step - loss: 0.5978 - accuracy: 0.8324 - val_loss: 0.6508 - val_accuracy: 0.8000\n",
      "Epoch 58/100\n",
      "17/17 [==============================] - 0s 22ms/step - loss: 0.5884 - accuracy: 0.8333 - val_loss: 0.6435 - val_accuracy: 0.8000\n",
      "Epoch 59/100\n"
     ]
    },
    {
     "name": "stdout",
     "output_type": "stream",
     "text": [
      "17/17 [==============================] - 0s 21ms/step - loss: 0.5795 - accuracy: 0.8370 - val_loss: 0.6371 - val_accuracy: 0.8083\n",
      "Epoch 60/100\n",
      "17/17 [==============================] - 0s 22ms/step - loss: 0.5711 - accuracy: 0.8398 - val_loss: 0.6306 - val_accuracy: 0.8083\n",
      "Epoch 61/100\n",
      "17/17 [==============================] - 0s 22ms/step - loss: 0.5627 - accuracy: 0.8444 - val_loss: 0.6245 - val_accuracy: 0.8167\n",
      "Epoch 62/100\n",
      "17/17 [==============================] - 0s 22ms/step - loss: 0.5544 - accuracy: 0.8463 - val_loss: 0.6179 - val_accuracy: 0.8167\n",
      "Epoch 63/100\n",
      "17/17 [==============================] - 0s 22ms/step - loss: 0.5466 - accuracy: 0.8472 - val_loss: 0.6119 - val_accuracy: 0.8250\n",
      "Epoch 64/100\n",
      "17/17 [==============================] - 0s 21ms/step - loss: 0.5385 - accuracy: 0.8481 - val_loss: 0.6058 - val_accuracy: 0.8250\n",
      "Epoch 65/100\n",
      "17/17 [==============================] - 0s 21ms/step - loss: 0.5307 - accuracy: 0.8491 - val_loss: 0.5999 - val_accuracy: 0.8250\n",
      "Epoch 66/100\n",
      "17/17 [==============================] - 0s 21ms/step - loss: 0.5236 - accuracy: 0.8519 - val_loss: 0.5943 - val_accuracy: 0.8250\n",
      "Epoch 67/100\n",
      "17/17 [==============================] - 0s 21ms/step - loss: 0.5162 - accuracy: 0.8528 - val_loss: 0.5889 - val_accuracy: 0.8250\n",
      "Epoch 68/100\n",
      "17/17 [==============================] - 0s 21ms/step - loss: 0.5095 - accuracy: 0.8546 - val_loss: 0.5839 - val_accuracy: 0.8250\n",
      "Epoch 69/100\n",
      "17/17 [==============================] - 0s 22ms/step - loss: 0.5029 - accuracy: 0.8574 - val_loss: 0.5792 - val_accuracy: 0.8250\n",
      "Epoch 70/100\n",
      "17/17 [==============================] - 0s 22ms/step - loss: 0.4956 - accuracy: 0.8620 - val_loss: 0.5757 - val_accuracy: 0.8250\n",
      "Epoch 71/100\n",
      "17/17 [==============================] - 0s 21ms/step - loss: 0.4899 - accuracy: 0.8602 - val_loss: 0.5695 - val_accuracy: 0.8333\n",
      "Epoch 72/100\n",
      "17/17 [==============================] - 0s 21ms/step - loss: 0.4824 - accuracy: 0.8648 - val_loss: 0.5656 - val_accuracy: 0.8333\n",
      "Epoch 73/100\n",
      "17/17 [==============================] - 0s 21ms/step - loss: 0.4760 - accuracy: 0.8648 - val_loss: 0.5616 - val_accuracy: 0.8333\n",
      "Epoch 74/100\n",
      "17/17 [==============================] - 0s 22ms/step - loss: 0.4699 - accuracy: 0.8648 - val_loss: 0.5581 - val_accuracy: 0.8333\n",
      "Epoch 75/100\n",
      "17/17 [==============================] - 0s 21ms/step - loss: 0.4638 - accuracy: 0.8657 - val_loss: 0.5544 - val_accuracy: 0.8417\n",
      "Epoch 76/100\n",
      "17/17 [==============================] - 0s 22ms/step - loss: 0.4579 - accuracy: 0.8676 - val_loss: 0.5499 - val_accuracy: 0.8417\n",
      "Epoch 77/100\n",
      "17/17 [==============================] - 0s 21ms/step - loss: 0.4522 - accuracy: 0.8694 - val_loss: 0.5464 - val_accuracy: 0.8417\n",
      "Epoch 78/100\n",
      "17/17 [==============================] - 0s 21ms/step - loss: 0.4466 - accuracy: 0.8694 - val_loss: 0.5426 - val_accuracy: 0.8417\n",
      "Epoch 79/100\n",
      "17/17 [==============================] - 0s 22ms/step - loss: 0.4412 - accuracy: 0.8704 - val_loss: 0.5389 - val_accuracy: 0.8500\n",
      "Epoch 80/100\n",
      "17/17 [==============================] - 0s 21ms/step - loss: 0.4356 - accuracy: 0.8722 - val_loss: 0.5359 - val_accuracy: 0.8500\n",
      "Epoch 81/100\n",
      "17/17 [==============================] - 0s 23ms/step - loss: 0.4304 - accuracy: 0.8731 - val_loss: 0.5331 - val_accuracy: 0.8417\n",
      "Epoch 82/100\n",
      "17/17 [==============================] - 0s 24ms/step - loss: 0.4252 - accuracy: 0.8750 - val_loss: 0.5303 - val_accuracy: 0.8417\n",
      "Epoch 83/100\n",
      "17/17 [==============================] - 0s 22ms/step - loss: 0.4201 - accuracy: 0.8741 - val_loss: 0.5275 - val_accuracy: 0.8417\n",
      "Epoch 84/100\n",
      "17/17 [==============================] - 0s 21ms/step - loss: 0.4147 - accuracy: 0.8759 - val_loss: 0.5244 - val_accuracy: 0.8417\n",
      "Epoch 85/100\n",
      "17/17 [==============================] - 0s 21ms/step - loss: 0.4099 - accuracy: 0.8769 - val_loss: 0.5223 - val_accuracy: 0.8417\n",
      "Epoch 86/100\n",
      "17/17 [==============================] - 0s 21ms/step - loss: 0.4051 - accuracy: 0.8806 - val_loss: 0.5199 - val_accuracy: 0.8417\n",
      "Epoch 87/100\n",
      "17/17 [==============================] - 0s 22ms/step - loss: 0.4006 - accuracy: 0.8815 - val_loss: 0.5174 - val_accuracy: 0.8500\n",
      "Epoch 88/100\n",
      "17/17 [==============================] - 0s 22ms/step - loss: 0.3958 - accuracy: 0.8843 - val_loss: 0.5151 - val_accuracy: 0.8500\n",
      "Epoch 89/100\n",
      "17/17 [==============================] - 0s 21ms/step - loss: 0.3909 - accuracy: 0.8861 - val_loss: 0.5119 - val_accuracy: 0.8500\n",
      "Epoch 90/100\n",
      "17/17 [==============================] - 0s 21ms/step - loss: 0.3863 - accuracy: 0.8861 - val_loss: 0.5105 - val_accuracy: 0.8500\n",
      "Epoch 91/100\n",
      "17/17 [==============================] - 0s 20ms/step - loss: 0.3819 - accuracy: 0.8870 - val_loss: 0.5076 - val_accuracy: 0.8500\n",
      "Epoch 92/100\n",
      "17/17 [==============================] - 0s 21ms/step - loss: 0.3776 - accuracy: 0.8870 - val_loss: 0.5056 - val_accuracy: 0.8500\n",
      "Epoch 93/100\n",
      "17/17 [==============================] - 0s 21ms/step - loss: 0.3736 - accuracy: 0.8880 - val_loss: 0.5033 - val_accuracy: 0.8500\n",
      "Epoch 94/100\n",
      "17/17 [==============================] - 0s 22ms/step - loss: 0.3692 - accuracy: 0.8880 - val_loss: 0.5018 - val_accuracy: 0.8500\n",
      "Epoch 95/100\n",
      "17/17 [==============================] - 0s 22ms/step - loss: 0.3652 - accuracy: 0.8907 - val_loss: 0.4999 - val_accuracy: 0.8500\n",
      "Epoch 96/100\n",
      "17/17 [==============================] - 0s 21ms/step - loss: 0.3614 - accuracy: 0.8917 - val_loss: 0.4986 - val_accuracy: 0.8500\n",
      "Epoch 97/100\n",
      "17/17 [==============================] - 0s 21ms/step - loss: 0.3575 - accuracy: 0.8935 - val_loss: 0.4967 - val_accuracy: 0.8500\n",
      "Epoch 98/100\n",
      "17/17 [==============================] - 0s 21ms/step - loss: 0.3537 - accuracy: 0.8963 - val_loss: 0.4944 - val_accuracy: 0.8500\n",
      "Epoch 99/100\n",
      "17/17 [==============================] - 0s 22ms/step - loss: 0.3499 - accuracy: 0.8963 - val_loss: 0.4929 - val_accuracy: 0.8500\n",
      "Epoch 100/100\n",
      "17/17 [==============================] - 0s 22ms/step - loss: 0.3462 - accuracy: 0.9000 - val_loss: 0.4912 - val_accuracy: 0.8500\n"
     ]
    }
   ],
   "source": [
    "train_dataset = tf.data.Dataset.from_tensor_slices((X_train, Y_train)).batch(64)\n",
    "test_dataset = tf.data.Dataset.from_tensor_slices((X_test, Y_test)).batch(64)\n",
    "history = conv_model.fit(train_dataset, epochs=100, validation_data=test_dataset)"
   ]
  },
  {
   "cell_type": "markdown",
   "id": "d2aa1b80",
   "metadata": {},
   "source": [
    "# 4 - History Object"
   ]
  },
  {
   "cell_type": "code",
   "execution_count": 24,
   "id": "58341890",
   "metadata": {
    "ExecuteTime": {
     "end_time": "2023-04-27T05:47:00.093981Z",
     "start_time": "2023-04-27T05:47:00.084747Z"
    }
   },
   "outputs": [
    {
     "data": {
      "text/plain": [
       "{'loss': [1.7999988794326782,\n",
       "  1.7847739458084106,\n",
       "  1.7783387899398804,\n",
       "  1.7723908424377441,\n",
       "  1.76606285572052,\n",
       "  1.759518027305603,\n",
       "  1.7525726556777954,\n",
       "  1.7439125776290894,\n",
       "  1.7337754964828491,\n",
       "  1.722364902496338,\n",
       "  1.7091912031173706,\n",
       "  1.6943988800048828,\n",
       "  1.6775543689727783,\n",
       "  1.6582645177841187,\n",
       "  1.6358811855316162,\n",
       "  1.609726071357727,\n",
       "  1.5796998739242554,\n",
       "  1.5472068786621094,\n",
       "  1.510709524154663,\n",
       "  1.4731935262680054,\n",
       "  1.4335049390792847,\n",
       "  1.3922051191329956,\n",
       "  1.3464345932006836,\n",
       "  1.3032222986221313,\n",
       "  1.2607338428497314,\n",
       "  1.219537615776062,\n",
       "  1.1790149211883545,\n",
       "  1.140544056892395,\n",
       "  1.103792667388916,\n",
       "  1.0695117712020874,\n",
       "  1.037569284439087,\n",
       "  1.0074036121368408,\n",
       "  0.9791950583457947,\n",
       "  0.9525951147079468,\n",
       "  0.9275050759315491,\n",
       "  0.9042552709579468,\n",
       "  0.8821049332618713,\n",
       "  0.8610227108001709,\n",
       "  0.8405383229255676,\n",
       "  0.8211208581924438,\n",
       "  0.8023009300231934,\n",
       "  0.7847358584403992,\n",
       "  0.7686337232589722,\n",
       "  0.7527987957000732,\n",
       "  0.7382894158363342,\n",
       "  0.7236801981925964,\n",
       "  0.7097014784812927,\n",
       "  0.6968069076538086,\n",
       "  0.684198260307312,\n",
       "  0.6718686819076538,\n",
       "  0.6602015495300293,\n",
       "  0.6489643454551697,\n",
       "  0.6380905508995056,\n",
       "  0.6276450753211975,\n",
       "  0.6174098253250122,\n",
       "  0.6073814630508423,\n",
       "  0.5977696180343628,\n",
       "  0.588398814201355,\n",
       "  0.5794998407363892,\n",
       "  0.5711430311203003,\n",
       "  0.5626658797264099,\n",
       "  0.5544105172157288,\n",
       "  0.5465507507324219,\n",
       "  0.5384687185287476,\n",
       "  0.5307016968727112,\n",
       "  0.5235733985900879,\n",
       "  0.5161763429641724,\n",
       "  0.5095276832580566,\n",
       "  0.5028615593910217,\n",
       "  0.49559009075164795,\n",
       "  0.48990896344184875,\n",
       "  0.4823792576789856,\n",
       "  0.4759785532951355,\n",
       "  0.46992722153663635,\n",
       "  0.4637523293495178,\n",
       "  0.45794159173965454,\n",
       "  0.45218920707702637,\n",
       "  0.4465612769126892,\n",
       "  0.4411516487598419,\n",
       "  0.4355735778808594,\n",
       "  0.430444598197937,\n",
       "  0.42523887753486633,\n",
       "  0.42007315158843994,\n",
       "  0.41473931074142456,\n",
       "  0.4099011719226837,\n",
       "  0.4051303267478943,\n",
       "  0.4005681276321411,\n",
       "  0.3957740366458893,\n",
       "  0.39093032479286194,\n",
       "  0.3863101005554199,\n",
       "  0.3818580210208893,\n",
       "  0.37761935591697693,\n",
       "  0.3736186623573303,\n",
       "  0.3692080080509186,\n",
       "  0.3651861548423767,\n",
       "  0.36137595772743225,\n",
       "  0.3574691712856293,\n",
       "  0.3537202477455139,\n",
       "  0.3499165177345276,\n",
       "  0.3462352752685547],\n",
       " 'accuracy': [0.17314815521240234,\n",
       "  0.22777777910232544,\n",
       "  0.24537037312984467,\n",
       "  0.2953703701496124,\n",
       "  0.31296294927597046,\n",
       "  0.3324074149131775,\n",
       "  0.3583333194255829,\n",
       "  0.38425925374031067,\n",
       "  0.4009259343147278,\n",
       "  0.4194444417953491,\n",
       "  0.4314814805984497,\n",
       "  0.43796294927597046,\n",
       "  0.4481481611728668,\n",
       "  0.4583333432674408,\n",
       "  0.46666666865348816,\n",
       "  0.49166667461395264,\n",
       "  0.5092592835426331,\n",
       "  0.519444465637207,\n",
       "  0.5351851582527161,\n",
       "  0.5425925850868225,\n",
       "  0.5537037253379822,\n",
       "  0.5546296238899231,\n",
       "  0.585185170173645,\n",
       "  0.6009259223937988,\n",
       "  0.6129629611968994,\n",
       "  0.6222222447395325,\n",
       "  0.6333333253860474,\n",
       "  0.6425926089286804,\n",
       "  0.6583333611488342,\n",
       "  0.6675925850868225,\n",
       "  0.6814814805984497,\n",
       "  0.6898148059844971,\n",
       "  0.6925926208496094,\n",
       "  0.6981481313705444,\n",
       "  0.7055555582046509,\n",
       "  0.7166666388511658,\n",
       "  0.7268518805503845,\n",
       "  0.7361111044883728,\n",
       "  0.7472222447395325,\n",
       "  0.7527777552604675,\n",
       "  0.7583333253860474,\n",
       "  0.7666666507720947,\n",
       "  0.7749999761581421,\n",
       "  0.779629647731781,\n",
       "  0.7861111164093018,\n",
       "  0.7935185432434082,\n",
       "  0.7972221970558167,\n",
       "  0.7981481552124023,\n",
       "  0.8027777671813965,\n",
       "  0.8074073791503906,\n",
       "  0.8111110925674438,\n",
       "  0.8120370507240295,\n",
       "  0.8185185194015503,\n",
       "  0.8212962746620178,\n",
       "  0.824999988079071,\n",
       "  0.8277778029441833,\n",
       "  0.8324074149131775,\n",
       "  0.8333333134651184,\n",
       "  0.8370370268821716,\n",
       "  0.8398148417472839,\n",
       "  0.8444444537162781,\n",
       "  0.8462963104248047,\n",
       "  0.8472222089767456,\n",
       "  0.8481481671333313,\n",
       "  0.8490740656852722,\n",
       "  0.8518518805503845,\n",
       "  0.8527777791023254,\n",
       "  0.854629635810852,\n",
       "  0.8574073910713196,\n",
       "  0.8620370626449585,\n",
       "  0.8601852059364319,\n",
       "  0.864814817905426,\n",
       "  0.864814817905426,\n",
       "  0.864814817905426,\n",
       "  0.8657407164573669,\n",
       "  0.8675925731658936,\n",
       "  0.8694444298744202,\n",
       "  0.8694444298744202,\n",
       "  0.8703703880310059,\n",
       "  0.8722222447395325,\n",
       "  0.8731481432914734,\n",
       "  0.875,\n",
       "  0.8740741014480591,\n",
       "  0.8759258985519409,\n",
       "  0.8768518567085266,\n",
       "  0.8805555701255798,\n",
       "  0.8814814686775208,\n",
       "  0.8842592835426331,\n",
       "  0.8861111402511597,\n",
       "  0.8861111402511597,\n",
       "  0.8870370388031006,\n",
       "  0.8870370388031006,\n",
       "  0.8879629373550415,\n",
       "  0.8879629373550415,\n",
       "  0.8907407522201538,\n",
       "  0.8916666507720947,\n",
       "  0.8935185074806213,\n",
       "  0.8962963223457336,\n",
       "  0.8962963223457336,\n",
       "  0.8999999761581421],\n",
       " 'val_loss': [1.7905477285385132,\n",
       "  1.7831783294677734,\n",
       "  1.778452754020691,\n",
       "  1.7734092473983765,\n",
       "  1.7683101892471313,\n",
       "  1.7617874145507812,\n",
       "  1.7550714015960693,\n",
       "  1.7449699640274048,\n",
       "  1.735486626625061,\n",
       "  1.7240478992462158,\n",
       "  1.7111268043518066,\n",
       "  1.6968188285827637,\n",
       "  1.6789785623550415,\n",
       "  1.6600449085235596,\n",
       "  1.6391834020614624,\n",
       "  1.6132761240005493,\n",
       "  1.5832304954528809,\n",
       "  1.5526713132858276,\n",
       "  1.51815927028656,\n",
       "  1.4837270975112915,\n",
       "  1.4491196870803833,\n",
       "  1.4122023582458496,\n",
       "  1.366162657737732,\n",
       "  1.3269890546798706,\n",
       "  1.2869898080825806,\n",
       "  1.2483553886413574,\n",
       "  1.2110750675201416,\n",
       "  1.1722018718719482,\n",
       "  1.1389416456222534,\n",
       "  1.1057624816894531,\n",
       "  1.0743372440338135,\n",
       "  1.043841004371643,\n",
       "  1.0144585371017456,\n",
       "  0.9881622791290283,\n",
       "  0.9610069394111633,\n",
       "  0.9385015964508057,\n",
       "  0.9151763916015625,\n",
       "  0.8939179182052612,\n",
       "  0.8724406361579895,\n",
       "  0.8524739146232605,\n",
       "  0.8346490263938904,\n",
       "  0.8181427717208862,\n",
       "  0.8031269311904907,\n",
       "  0.7880859375,\n",
       "  0.7744590044021606,\n",
       "  0.7602900266647339,\n",
       "  0.7484166622161865,\n",
       "  0.7361100316047668,\n",
       "  0.7244932651519775,\n",
       "  0.7138845920562744,\n",
       "  0.7031444311141968,\n",
       "  0.693033754825592,\n",
       "  0.6832524538040161,\n",
       "  0.6742660403251648,\n",
       "  0.6659703850746155,\n",
       "  0.6582462787628174,\n",
       "  0.6507897973060608,\n",
       "  0.6434608697891235,\n",
       "  0.6371409296989441,\n",
       "  0.6305604577064514,\n",
       "  0.6245251893997192,\n",
       "  0.617859423160553,\n",
       "  0.6118952035903931,\n",
       "  0.605843186378479,\n",
       "  0.5998641848564148,\n",
       "  0.5942521691322327,\n",
       "  0.5889127254486084,\n",
       "  0.5839163661003113,\n",
       "  0.5791820883750916,\n",
       "  0.575738251209259,\n",
       "  0.569541335105896,\n",
       "  0.5655503869056702,\n",
       "  0.5616061091423035,\n",
       "  0.5580543279647827,\n",
       "  0.5543687343597412,\n",
       "  0.5499261021614075,\n",
       "  0.5463553667068481,\n",
       "  0.5425834655761719,\n",
       "  0.5389271974563599,\n",
       "  0.5358631610870361,\n",
       "  0.5331260561943054,\n",
       "  0.5303311944007874,\n",
       "  0.5275376439094543,\n",
       "  0.524397611618042,\n",
       "  0.5222516655921936,\n",
       "  0.5199383497238159,\n",
       "  0.5174257755279541,\n",
       "  0.5150998830795288,\n",
       "  0.5118848085403442,\n",
       "  0.5104919672012329,\n",
       "  0.5076459646224976,\n",
       "  0.5055862665176392,\n",
       "  0.5032933950424194,\n",
       "  0.5018088817596436,\n",
       "  0.49994388222694397,\n",
       "  0.49860695004463196,\n",
       "  0.496653288602829,\n",
       "  0.494383305311203,\n",
       "  0.49294281005859375,\n",
       "  0.4911971986293793],\n",
       " 'val_accuracy': [0.18333333730697632,\n",
       "  0.2083333283662796,\n",
       "  0.24166665971279144,\n",
       "  0.32499998807907104,\n",
       "  0.3499999940395355,\n",
       "  0.375,\n",
       "  0.4000000059604645,\n",
       "  0.42500001192092896,\n",
       "  0.4416666626930237,\n",
       "  0.4416666626930237,\n",
       "  0.42500001192092896,\n",
       "  0.4333333373069763,\n",
       "  0.4749999940395355,\n",
       "  0.4749999940395355,\n",
       "  0.46666666865348816,\n",
       "  0.4333333373069763,\n",
       "  0.49166667461395264,\n",
       "  0.4416666626930237,\n",
       "  0.46666666865348816,\n",
       "  0.44999998807907104,\n",
       "  0.46666666865348816,\n",
       "  0.5083333253860474,\n",
       "  0.5416666865348816,\n",
       "  0.5416666865348816,\n",
       "  0.550000011920929,\n",
       "  0.5666666626930237,\n",
       "  0.574999988079071,\n",
       "  0.5916666388511658,\n",
       "  0.6000000238418579,\n",
       "  0.625,\n",
       "  0.6333333253860474,\n",
       "  0.625,\n",
       "  0.6416666507720947,\n",
       "  0.6583333611488342,\n",
       "  0.6499999761581421,\n",
       "  0.6499999761581421,\n",
       "  0.6583333611488342,\n",
       "  0.6666666865348816,\n",
       "  0.675000011920929,\n",
       "  0.675000011920929,\n",
       "  0.6916666626930237,\n",
       "  0.699999988079071,\n",
       "  0.7333333492279053,\n",
       "  0.7333333492279053,\n",
       "  0.7333333492279053,\n",
       "  0.75,\n",
       "  0.7666666507720947,\n",
       "  0.7666666507720947,\n",
       "  0.7749999761581421,\n",
       "  0.7833333611488342,\n",
       "  0.7833333611488342,\n",
       "  0.7916666865348816,\n",
       "  0.7916666865348816,\n",
       "  0.7916666865348816,\n",
       "  0.7916666865348816,\n",
       "  0.800000011920929,\n",
       "  0.800000011920929,\n",
       "  0.800000011920929,\n",
       "  0.8083333373069763,\n",
       "  0.8083333373069763,\n",
       "  0.8166666626930237,\n",
       "  0.8166666626930237,\n",
       "  0.824999988079071,\n",
       "  0.824999988079071,\n",
       "  0.824999988079071,\n",
       "  0.824999988079071,\n",
       "  0.824999988079071,\n",
       "  0.824999988079071,\n",
       "  0.824999988079071,\n",
       "  0.824999988079071,\n",
       "  0.8333333134651184,\n",
       "  0.8333333134651184,\n",
       "  0.8333333134651184,\n",
       "  0.8333333134651184,\n",
       "  0.8416666388511658,\n",
       "  0.8416666388511658,\n",
       "  0.8416666388511658,\n",
       "  0.8416666388511658,\n",
       "  0.8500000238418579,\n",
       "  0.8500000238418579,\n",
       "  0.8416666388511658,\n",
       "  0.8416666388511658,\n",
       "  0.8416666388511658,\n",
       "  0.8416666388511658,\n",
       "  0.8416666388511658,\n",
       "  0.8416666388511658,\n",
       "  0.8500000238418579,\n",
       "  0.8500000238418579,\n",
       "  0.8500000238418579,\n",
       "  0.8500000238418579,\n",
       "  0.8500000238418579,\n",
       "  0.8500000238418579,\n",
       "  0.8500000238418579,\n",
       "  0.8500000238418579,\n",
       "  0.8500000238418579,\n",
       "  0.8500000238418579,\n",
       "  0.8500000238418579,\n",
       "  0.8500000238418579,\n",
       "  0.8500000238418579,\n",
       "  0.8500000238418579]}"
      ]
     },
     "execution_count": 24,
     "metadata": {},
     "output_type": "execute_result"
    }
   ],
   "source": [
    "history.history"
   ]
  },
  {
   "cell_type": "code",
   "execution_count": 25,
   "id": "0d030589",
   "metadata": {
    "ExecuteTime": {
     "end_time": "2023-04-27T05:47:21.728964Z",
     "start_time": "2023-04-27T05:47:21.069618Z"
    }
   },
   "outputs": [
    {
     "name": "stderr",
     "output_type": "stream",
     "text": [
      "/tmp/ipykernel_48/973814028.py:5: SettingWithCopyWarning: \n",
      "A value is trying to be set on a copy of a slice from a DataFrame\n",
      "\n",
      "See the caveats in the documentation: https://pandas.pydata.org/pandas-docs/stable/user_guide/indexing.html#returning-a-view-versus-a-copy\n",
      "  df_loss.rename(columns={'loss':'train','val_loss':'validation'},inplace=True)\n",
      "/tmp/ipykernel_48/973814028.py:7: SettingWithCopyWarning: \n",
      "A value is trying to be set on a copy of a slice from a DataFrame\n",
      "\n",
      "See the caveats in the documentation: https://pandas.pydata.org/pandas-docs/stable/user_guide/indexing.html#returning-a-view-versus-a-copy\n",
      "  df_acc.rename(columns={'accuracy':'train','val_accuracy':'validation'},inplace=True)\n"
     ]
    },
    {
     "data": {
      "text/plain": [
       "[Text(0.5, 0, 'Epoch'), Text(0, 0.5, 'Accuracy')]"
      ]
     },
     "execution_count": 25,
     "metadata": {},
     "output_type": "execute_result"
    },
    {
     "data": {
      "image/png": "[encoded data removed]",
      "text/plain": [
       "<Figure size 1200x800 with 1 Axes>"
      ]
     },
     "metadata": {},
     "output_type": "display_data"
    },
    {
     "data": {
      "image/png": "[encoded data removed]",
      "text/plain": [
       "<Figure size 1200x800 with 1 Axes>"
      ]
     },
     "metadata": {},
     "output_type": "display_data"
    }
   ],
   "source": [
    "# The history.history[\"loss\"] entry is a dictionary with as many values as epochs that the\n",
    "# model was trained on. \n",
    "df_loss_acc = pd.DataFrame(history.history)\n",
    "df_loss= df_loss_acc[['loss','val_loss']]\n",
    "df_loss.rename(columns={'loss':'train','val_loss':'validation'},inplace=True)\n",
    "df_acc= df_loss_acc[['accuracy','val_accuracy']]\n",
    "df_acc.rename(columns={'accuracy':'train','val_accuracy':'validation'},inplace=True)\n",
    "df_loss.plot(title='Model loss',figsize=(12,8)).set(xlabel='Epoch',ylabel='Loss')\n",
    "df_acc.plot(title='Model Accuracy',figsize=(12,8)).set(xlabel='Epoch',ylabel='Accuracy')"
   ]
  }
 ],
 "metadata": {
  "kernelspec": {
   "display_name": "Python 3 (ipykernel)",
   "language": "python",
   "name": "python3"
  },
  "language_info": {
   "codemirror_mode": {
    "name": "ipython",
    "version": 3
   },
   "file_extension": ".py",
   "mimetype": "text/x-python",
   "name": "python",
   "nbconvert_exporter": "python",
   "pygments_lexer": "ipython3",
   "version": "3.10.6"
  },
  "toc": {
   "base_numbering": 1,
   "nav_menu": {},
   "number_sections": true,
   "sideBar": true,
   "skip_h1_title": false,
   "title_cell": "Table of Contents",
   "title_sidebar": "Contents",
   "toc_cell": false,
   "toc_position": {},
   "toc_section_display": true,
   "toc_window_display": false
  }
 },
 "nbformat": 4,
 "nbformat_minor": 5
}
