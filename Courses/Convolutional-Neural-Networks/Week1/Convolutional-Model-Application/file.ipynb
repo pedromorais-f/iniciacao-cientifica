{
 "cells": [
  {
   "cell_type": "markdown",
   "id": "17a3016c",
   "metadata": {},
   "source": [
    "# 1 - Packages"
   ]
  },
  {
   "cell_type": "code",
   "execution_count": 1,
   "id": "2541ad14",
   "metadata": {
    "ExecuteTime": {
     "end_time": "2023-05-03T18:58:33.560901Z",
     "start_time": "2023-05-03T18:58:31.803686Z"
    }
   },
   "outputs": [
    {
     "name": "stderr",
     "output_type": "stream",
     "text": [
      "2023-05-03 15:58:32.416737: I tensorflow/core/platform/cpu_feature_guard.cc:182] This TensorFlow binary is optimized to use available CPU instructions in performance-critical operations.\n",
      "To enable the following instructions: AVX2 FMA, in other operations, rebuild TensorFlow with the appropriate compiler flags.\n",
      "2023-05-03 15:58:33.004252: W tensorflow/compiler/tf2tensorrt/utils/py_utils.cc:38] TF-TRT Warning: Could not find TensorRT\n"
     ]
    }
   ],
   "source": [
    "import math\n",
    "import numpy as np\n",
    "import h5py\n",
    "import matplotlib.pyplot as plt\n",
    "from matplotlib.pyplot import imread\n",
    "import scipy\n",
    "from PIL import Image\n",
    "import pandas as pd\n",
    "import tensorflow as tf\n",
    "import keras.layers as tfl\n",
    "from tensorflow.python.framework import ops\n",
    "from cnn_utils import *\n",
    "from test_utils import summary, comparator\n",
    "\n",
    "%matplotlib inline\n",
    "np.random.seed(1)"
   ]
  },
  {
   "cell_type": "code",
   "execution_count": 2,
   "id": "915ff64b",
   "metadata": {
    "ExecuteTime": {
     "end_time": "2023-05-03T18:58:46.862154Z",
     "start_time": "2023-05-03T18:58:46.804275Z"
    }
   },
   "outputs": [
    {
     "name": "stdout",
     "output_type": "stream",
     "text": [
      "number of training examples = 600\n",
      "number of test examples = 150\n",
      "X_train shape: (600, 64, 64, 3)\n",
      "Y_train shape: (600, 1)\n",
      "X_test shape: (150, 64, 64, 3)\n",
      "Y_test shape: (150, 1)\n"
     ]
    }
   ],
   "source": [
    "X_train_orig, Y_train_orig, X_test_orig, Y_test_orig, classes = load_happy_dataset()\n",
    "\n",
    "# Normalize image vectors\n",
    "X_train = X_train_orig/255.\n",
    "X_test = X_test_orig/255.\n",
    "\n",
    "# Reshape\n",
    "Y_train = Y_train_orig.T\n",
    "Y_test = Y_test_orig.T\n",
    "\n",
    "print (\"number of training examples = \" + str(X_train.shape[0]))\n",
    "print (\"number of test examples = \" + str(X_test.shape[0]))\n",
    "print (\"X_train shape: \" + str(X_train.shape))\n",
    "print (\"Y_train shape: \" + str(Y_train.shape))\n",
    "print (\"X_test shape: \" + str(X_test.shape))\n",
    "print (\"Y_test shape: \" + str(Y_test.shape))"
   ]
  },
  {
   "cell_type": "code",
   "execution_count": 3,
   "id": "e25d7872",
   "metadata": {
    "ExecuteTime": {
     "end_time": "2023-05-03T18:58:47.763867Z",
     "start_time": "2023-05-03T18:58:47.636054Z"
    },
    "scrolled": true
   },
   "outputs": [
    {
     "data": {
      "image/png": "[encoded data removed]",
      "text/plain": [
       "<Figure size 640x480 with 1 Axes>"
      ]
     },
     "metadata": {},
     "output_type": "display_data"
    }
   ],
   "source": [
    "index = 5\n",
    "plt.imshow(X_train_orig[index]) #display sample training image\n",
    "plt.show()"
   ]
  },
  {
   "cell_type": "markdown",
   "id": "f7f4aa9f",
   "metadata": {},
   "source": [
    "# 2 - The Sequential API"
   ]
  },
  {
   "cell_type": "code",
   "execution_count": 4,
   "id": "ae050f55",
   "metadata": {
    "ExecuteTime": {
     "end_time": "2023-05-03T18:58:50.408899Z",
     "start_time": "2023-05-03T18:58:50.404152Z"
    }
   },
   "outputs": [],
   "source": [
    "# GRADED FUNCTION: happyModel\n",
    "def happyModel():\n",
    "    model = tf.keras.Sequential([\n",
    "            ## ZeroPadding2D with padding 3, input shape of 64 x 64 x 3\n",
    "            tfl.ZeroPadding2D(padding=(3, 3), input_shape=(64, 64, 3)),\n",
    "            ## Conv2D with 32 7x7 filters and stride of 1\n",
    "            tfl.Conv2D(32, (7,7)),\n",
    "            ## BatchNormalization for axis 3\n",
    "            tfl.BatchNormalization(axis=-1),\n",
    "            ## ReLU\n",
    "            tfl.ReLU(),\n",
    "            ## Max Pooling 2D with default parameters\n",
    "            tfl.MaxPool2D(),\n",
    "            ## Flatten layer\n",
    "            tfl.Flatten(),\n",
    "            ## Dense layer with 1 unit for output & 'sigmoid' activation\n",
    "            tfl.Dense(1, activation='sigmoid')\n",
    "        ])\n",
    "    \n",
    "    return model"
   ]
  },
  {
   "cell_type": "code",
   "execution_count": 5,
   "id": "8289f7ef",
   "metadata": {
    "ExecuteTime": {
     "end_time": "2023-05-03T18:58:51.984981Z",
     "start_time": "2023-05-03T18:58:51.252324Z"
    }
   },
   "outputs": [
    {
     "name": "stdout",
     "output_type": "stream",
     "text": [
      "['ZeroPadding2D', (None, 70, 70, 3), 0, ((3, 3), (3, 3))]\n",
      "['Conv2D', (None, 64, 64, 32), 4736, 'valid', 'linear', 'GlorotUniform']\n",
      "['BatchNormalization', (None, 64, 64, 32), 128]\n",
      "['ReLU', (None, 64, 64, 32), 0]\n",
      "['MaxPooling2D', (None, 32, 32, 32), 0, (2, 2), (2, 2), 'valid']\n",
      "['Flatten', (None, 32768), 0]\n",
      "['Dense', (None, 1), 32769, 'sigmoid']\n",
      "\u001b[32mAll tests passed!\u001b[0m\n"
     ]
    },
    {
     "name": "stderr",
     "output_type": "stream",
     "text": [
      "2023-05-03 15:58:51.430032: I tensorflow/compiler/xla/stream_executor/cuda/cuda_gpu_executor.cc:982] could not open file to read NUMA node: /sys/bus/pci/devices/0000:01:00.0/numa_node\n",
      "Your kernel may have been built without NUMA support.\n",
      "2023-05-03 15:58:51.867802: W tensorflow/core/common_runtime/gpu/gpu_device.cc:1956] Cannot dlopen some GPU libraries. Please make sure the missing libraries mentioned above are installed properly if you would like to use GPU. Follow the guide at https://www.tensorflow.org/install/gpu for how to download and setup the required libraries for your platform.\n",
      "Skipping registering GPU devices...\n"
     ]
    }
   ],
   "source": [
    "happy_model = happyModel()\n",
    "# Print a summary for each layer\n",
    "for layer in summary(happy_model):\n",
    "    print(layer)\n",
    "    \n",
    "output = [['ZeroPadding2D', (None, 70, 70, 3), 0, ((3, 3), (3, 3))],\n",
    "            ['Conv2D', (None, 64, 64, 32), 4736, 'valid', 'linear', 'GlorotUniform'],\n",
    "            ['BatchNormalization', (None, 64, 64, 32), 128],\n",
    "            ['ReLU', (None, 64, 64, 32), 0],\n",
    "            ['MaxPooling2D', (None, 32, 32, 32), 0, (2, 2), (2, 2), 'valid'],\n",
    "            ['Flatten', (None, 32768), 0],\n",
    "            ['Dense', (None, 1), 32769, 'sigmoid']]\n",
    "    \n",
    "comparator(summary(happy_model), output)"
   ]
  },
  {
   "cell_type": "code",
   "execution_count": 6,
   "id": "87249762",
   "metadata": {
    "ExecuteTime": {
     "end_time": "2023-05-03T18:58:53.738896Z",
     "start_time": "2023-05-03T18:58:53.731876Z"
    }
   },
   "outputs": [],
   "source": [
    "happy_model.compile(optimizer='adam',\n",
    "                   loss='binary_crossentropy',\n",
    "                   metrics=['accuracy'])"
   ]
  },
  {
   "cell_type": "code",
   "execution_count": 7,
   "id": "36128e49",
   "metadata": {
    "ExecuteTime": {
     "end_time": "2023-05-03T18:58:54.586526Z",
     "start_time": "2023-05-03T18:58:54.564337Z"
    }
   },
   "outputs": [
    {
     "name": "stdout",
     "output_type": "stream",
     "text": [
      "Model: \"sequential\"\n",
      "_________________________________________________________________\n",
      " Layer (type)                Output Shape              Param #   \n",
      "=================================================================\n",
      " zero_padding2d (ZeroPadding  (None, 70, 70, 3)        0         \n",
      " 2D)                                                             \n",
      "                                                                 \n",
      " conv2d (Conv2D)             (None, 64, 64, 32)        4736      \n",
      "                                                                 \n",
      " batch_normalization (BatchN  (None, 64, 64, 32)       128       \n",
      " ormalization)                                                   \n",
      "                                                                 \n",
      " re_lu (ReLU)                (None, 64, 64, 32)        0         \n",
      "                                                                 \n",
      " max_pooling2d (MaxPooling2D  (None, 32, 32, 32)       0         \n",
      " )                                                               \n",
      "                                                                 \n",
      " flatten (Flatten)           (None, 32768)             0         \n",
      "                                                                 \n",
      " dense (Dense)               (None, 1)                 32769     \n",
      "                                                                 \n",
      "=================================================================\n",
      "Total params: 37,633\n",
      "Trainable params: 37,569\n",
      "Non-trainable params: 64\n",
      "_________________________________________________________________\n"
     ]
    }
   ],
   "source": [
    "happy_model.summary()"
   ]
  },
  {
   "cell_type": "code",
   "execution_count": 8,
   "id": "50fc0ac9",
   "metadata": {
    "ExecuteTime": {
     "end_time": "2023-05-03T18:59:07.722408Z",
     "start_time": "2023-05-03T18:58:57.084321Z"
    }
   },
   "outputs": [
    {
     "name": "stdout",
     "output_type": "stream",
     "text": [
      "Epoch 1/10\n",
      "38/38 [==============================] - 2s 28ms/step - loss: 1.0448 - accuracy: 0.7150\n",
      "Epoch 2/10\n",
      "38/38 [==============================] - 1s 26ms/step - loss: 0.2384 - accuracy: 0.9000\n",
      "Epoch 3/10\n",
      "38/38 [==============================] - 1s 26ms/step - loss: 0.1341 - accuracy: 0.9533\n",
      "Epoch 4/10\n",
      "38/38 [==============================] - 1s 25ms/step - loss: 0.1564 - accuracy: 0.9400\n",
      "Epoch 5/10\n",
      "38/38 [==============================] - 1s 26ms/step - loss: 0.1253 - accuracy: 0.9550\n",
      "Epoch 6/10\n",
      "38/38 [==============================] - 1s 25ms/step - loss: 0.1983 - accuracy: 0.9367\n",
      "Epoch 7/10\n",
      "38/38 [==============================] - 1s 26ms/step - loss: 0.0801 - accuracy: 0.9733\n",
      "Epoch 8/10\n",
      "38/38 [==============================] - 1s 25ms/step - loss: 0.0584 - accuracy: 0.9817\n",
      "Epoch 9/10\n",
      "38/38 [==============================] - 1s 26ms/step - loss: 0.0891 - accuracy: 0.9683\n",
      "Epoch 10/10\n",
      "38/38 [==============================] - 1s 25ms/step - loss: 0.1216 - accuracy: 0.9467\n"
     ]
    },
    {
     "data": {
      "text/plain": [
       "<keras.callbacks.History at 0x7fc77705d930>"
      ]
     },
     "execution_count": 8,
     "metadata": {},
     "output_type": "execute_result"
    }
   ],
   "source": [
    "happy_model.fit(X_train, Y_train, epochs=10, batch_size=16)"
   ]
  },
  {
   "cell_type": "code",
   "execution_count": 9,
   "id": "c2755b5c",
   "metadata": {
    "ExecuteTime": {
     "end_time": "2023-05-03T18:59:09.748660Z",
     "start_time": "2023-05-03T18:59:09.556201Z"
    }
   },
   "outputs": [
    {
     "name": "stdout",
     "output_type": "stream",
     "text": [
      "5/5 [==============================] - 0s 12ms/step - loss: 0.1790 - accuracy: 0.9267\n"
     ]
    },
    {
     "data": {
      "text/plain": [
       "[0.17902787029743195, 0.9266666769981384]"
      ]
     },
     "execution_count": 9,
     "metadata": {},
     "output_type": "execute_result"
    }
   ],
   "source": [
    "happy_model.evaluate(X_test, Y_test)"
   ]
  },
  {
   "cell_type": "markdown",
   "id": "0548b037",
   "metadata": {},
   "source": [
    "# 3 - The Functional API"
   ]
  },
  {
   "cell_type": "code",
   "execution_count": 10,
   "id": "68dcd5c7",
   "metadata": {
    "ExecuteTime": {
     "end_time": "2023-05-03T18:59:11.038534Z",
     "start_time": "2023-05-03T18:59:10.995862Z"
    }
   },
   "outputs": [],
   "source": [
    "# Loading the data (signs)\n",
    "X_train_orig, Y_train_orig, X_test_orig, Y_test_orig, classes = load_signs_dataset()"
   ]
  },
  {
   "cell_type": "code",
   "execution_count": 11,
   "id": "af362377",
   "metadata": {
    "ExecuteTime": {
     "end_time": "2023-05-03T18:59:11.916437Z",
     "start_time": "2023-05-03T18:59:11.780123Z"
    }
   },
   "outputs": [
    {
     "name": "stdout",
     "output_type": "stream",
     "text": [
      "y = 4\n"
     ]
    },
    {
     "data": {
      "image/png": "[encoded data removed]",
      "text/plain": [
       "<Figure size 640x480 with 1 Axes>"
      ]
     },
     "metadata": {},
     "output_type": "display_data"
    }
   ],
   "source": [
    "# Example of an image from the dataset\n",
    "index = 9\n",
    "plt.imshow(X_train_orig[index])\n",
    "print (\"y = \" + str(np.squeeze(Y_train_orig[:, index])))"
   ]
  },
  {
   "cell_type": "code",
   "execution_count": 12,
   "id": "08cc55ff",
   "metadata": {
    "ExecuteTime": {
     "end_time": "2023-05-03T18:59:14.196396Z",
     "start_time": "2023-05-03T18:59:14.163649Z"
    }
   },
   "outputs": [
    {
     "name": "stdout",
     "output_type": "stream",
     "text": [
      "number of training examples = 1080\n",
      "number of test examples = 120\n",
      "X_train shape: (1080, 64, 64, 3)\n",
      "Y_train shape: (1080, 6)\n",
      "X_test shape: (120, 64, 64, 3)\n",
      "Y_test shape: (120, 6)\n"
     ]
    }
   ],
   "source": [
    "X_train = X_train_orig/255.\n",
    "X_test = X_test_orig/255.\n",
    "Y_train = convert_to_one_hot(Y_train_orig, 6).T\n",
    "Y_test = convert_to_one_hot(Y_test_orig, 6).T\n",
    "print (\"number of training examples = \" + str(X_train.shape[0]))\n",
    "print (\"number of test examples = \" + str(X_test.shape[0]))\n",
    "print (\"X_train shape: \" + str(X_train.shape))\n",
    "print (\"Y_train shape: \" + str(Y_train.shape))\n",
    "print (\"X_test shape: \" + str(X_test.shape))\n",
    "print (\"Y_test shape: \" + str(Y_test.shape))"
   ]
  },
  {
   "cell_type": "code",
   "execution_count": 13,
   "id": "6e84877f",
   "metadata": {
    "ExecuteTime": {
     "end_time": "2023-05-03T18:59:15.265743Z",
     "start_time": "2023-05-03T18:59:15.260301Z"
    }
   },
   "outputs": [],
   "source": [
    "# GRADED FUNCTION: convolutional_model\n",
    "def convolutional_model(input_shape):\n",
    "    input_img = tf.keras.Input(shape=input_shape)\n",
    "    \n",
    "    # CONV2D: 8 filters 4x4, stride of 1, padding 'SAME'\n",
    "    Z1 = tfl.Conv2D(8, 4, activation='linear', padding=\"same\", strides=1)(input_img)\n",
    "    \n",
    "    ## RELU\n",
    "    A1 = tfl.ReLU()(Z1)\n",
    "    \n",
    "    ## MAXPOOL: window 8x8, stride 8, padding 'SAME'\n",
    "    P1 = tfl.MaxPool2D(pool_size=(8, 8), strides=(8, 8), padding='same')(A1)\n",
    "    \n",
    "    ## CONV2D: 16 filters 2x2, stride 1, padding 'SAME'\n",
    "    Z2 = tfl.Conv2D(16, 2, activation='linear', padding=\"same\", strides=1)(P1)\n",
    "    \n",
    "    ## RELU\n",
    "    A2 = tfl.ReLU()(Z2)\n",
    "    \n",
    "    ## MAXPOOL: window 4x4, stride 4, padding 'SAME'\n",
    "    P2 = tfl.MaxPool2D(pool_size=(4, 4), strides=(4, 4), padding='same')(A2)\n",
    "    \n",
    "    ## FLATTEN\n",
    "    F = tfl.Flatten()(P2)\n",
    "    \n",
    "    ## Dense layer\n",
    "    outputs = tfl.Dense(6, activation='softmax')(F)\n",
    "    \n",
    "    model = tf.keras.Model(inputs=input_img, outputs=outputs)\n",
    "    return model"
   ]
  },
  {
   "cell_type": "code",
   "execution_count": 14,
   "id": "d6d624a1",
   "metadata": {
    "ExecuteTime": {
     "end_time": "2023-05-03T18:59:16.019985Z",
     "start_time": "2023-05-03T18:59:15.940059Z"
    }
   },
   "outputs": [
    {
     "name": "stdout",
     "output_type": "stream",
     "text": [
      "Model: \"model\"\n",
      "_________________________________________________________________\n",
      " Layer (type)                Output Shape              Param #   \n",
      "=================================================================\n",
      " input_1 (InputLayer)        [(None, 64, 64, 3)]       0         \n",
      "                                                                 \n",
      " conv2d_1 (Conv2D)           (None, 64, 64, 8)         392       \n",
      "                                                                 \n",
      " re_lu_1 (ReLU)              (None, 64, 64, 8)         0         \n",
      "                                                                 \n",
      " max_pooling2d_1 (MaxPooling  (None, 8, 8, 8)          0         \n",
      " 2D)                                                             \n",
      "                                                                 \n",
      " conv2d_2 (Conv2D)           (None, 8, 8, 16)          528       \n",
      "                                                                 \n",
      " re_lu_2 (ReLU)              (None, 8, 8, 16)          0         \n",
      "                                                                 \n",
      " max_pooling2d_2 (MaxPooling  (None, 2, 2, 16)         0         \n",
      " 2D)                                                             \n",
      "                                                                 \n",
      " flatten_1 (Flatten)         (None, 64)                0         \n",
      "                                                                 \n",
      " dense_1 (Dense)             (None, 6)                 390       \n",
      "                                                                 \n",
      "=================================================================\n",
      "Total params: 1,310\n",
      "Trainable params: 1,310\n",
      "Non-trainable params: 0\n",
      "_________________________________________________________________\n",
      "\u001b[32mAll tests passed!\u001b[0m\n"
     ]
    }
   ],
   "source": [
    "conv_model = convolutional_model((64, 64, 3))\n",
    "conv_model.compile(optimizer='adam',\n",
    "                  loss='categorical_crossentropy',\n",
    "                  metrics=['accuracy'])\n",
    "conv_model.summary()\n",
    "    \n",
    "output = [['InputLayer', [(None, 64, 64, 3)], 0],\n",
    "        ['Conv2D', (None, 64, 64, 8), 392, 'same', 'linear', 'GlorotUniform'],\n",
    "        ['ReLU', (None, 64, 64, 8), 0],\n",
    "        ['MaxPooling2D', (None, 8, 8, 8), 0, (8, 8), (8, 8), 'same'],\n",
    "        ['Conv2D', (None, 8, 8, 16), 528, 'same', 'linear', 'GlorotUniform'],\n",
    "        ['ReLU', (None, 8, 8, 16), 0],\n",
    "        ['MaxPooling2D', (None, 2, 2, 16), 0, (4, 4), (4, 4), 'same'],\n",
    "        ['Flatten', (None, 64), 0],\n",
    "        ['Dense', (None, 6), 390, 'softmax']]\n",
    "    \n",
    "comparator(summary(conv_model), output)"
   ]
  },
  {
   "cell_type": "code",
   "execution_count": 15,
   "id": "6af5ba7e",
   "metadata": {
    "ExecuteTime": {
     "end_time": "2023-05-03T18:59:52.789160Z",
     "start_time": "2023-05-03T18:59:16.899942Z"
    }
   },
   "outputs": [
    {
     "name": "stdout",
     "output_type": "stream",
     "text": [
      "Epoch 1/100\n"
     ]
    },
    {
     "name": "stderr",
     "output_type": "stream",
     "text": [
      "2023-05-03 15:59:16.956791: I tensorflow/core/common_runtime/executor.cc:1197] [/device:CPU:0] (DEBUG INFO) Executor start aborting (this does not indicate an error and you can ignore this message): INVALID_ARGUMENT: You must feed a value for placeholder tensor 'Placeholder/_1' with dtype double and shape [1080,6]\n",
      "\t [[{{node Placeholder/_1}}]]\n"
     ]
    },
    {
     "name": "stdout",
     "output_type": "stream",
     "text": [
      "17/17 [==============================] - 1s 25ms/step - loss: 1.7933 - accuracy: 0.1935 - val_loss: 1.7906 - val_accuracy: 0.1833\n",
      "Epoch 2/100\n",
      " 4/17 [======>.......................] - ETA: 0s - loss: 1.7819 - accuracy: 0.2188"
     ]
    },
    {
     "name": "stderr",
     "output_type": "stream",
     "text": [
      "2023-05-03 15:59:17.716741: I tensorflow/core/common_runtime/executor.cc:1197] [/device:CPU:0] (DEBUG INFO) Executor start aborting (this does not indicate an error and you can ignore this message): INVALID_ARGUMENT: You must feed a value for placeholder tensor 'Placeholder/_1' with dtype double and shape [120,6]\n",
      "\t [[{{node Placeholder/_1}}]]\n"
     ]
    },
    {
     "name": "stdout",
     "output_type": "stream",
     "text": [
      "17/17 [==============================] - 0s 20ms/step - loss: 1.7848 - accuracy: 0.2065 - val_loss: 1.7887 - val_accuracy: 0.1667\n",
      "Epoch 3/100\n",
      "17/17 [==============================] - 0s 21ms/step - loss: 1.7780 - accuracy: 0.2287 - val_loss: 1.7831 - val_accuracy: 0.2167\n",
      "Epoch 4/100\n",
      "17/17 [==============================] - 0s 20ms/step - loss: 1.7696 - accuracy: 0.2574 - val_loss: 1.7765 - val_accuracy: 0.2667\n",
      "Epoch 5/100\n",
      "17/17 [==============================] - 0s 20ms/step - loss: 1.7586 - accuracy: 0.3287 - val_loss: 1.7664 - val_accuracy: 0.3333\n",
      "Epoch 6/100\n",
      "17/17 [==============================] - 0s 22ms/step - loss: 1.7448 - accuracy: 0.3981 - val_loss: 1.7544 - val_accuracy: 0.3500\n",
      "Epoch 7/100\n",
      "17/17 [==============================] - 0s 20ms/step - loss: 1.7292 - accuracy: 0.4269 - val_loss: 1.7411 - val_accuracy: 0.3583\n",
      "Epoch 8/100\n",
      "17/17 [==============================] - 0s 20ms/step - loss: 1.7109 - accuracy: 0.4398 - val_loss: 1.7255 - val_accuracy: 0.4083\n",
      "Epoch 9/100\n",
      "17/17 [==============================] - 0s 22ms/step - loss: 1.6887 - accuracy: 0.4380 - val_loss: 1.7066 - val_accuracy: 0.4333\n",
      "Epoch 10/100\n",
      "17/17 [==============================] - 0s 20ms/step - loss: 1.6628 - accuracy: 0.4704 - val_loss: 1.6840 - val_accuracy: 0.4417\n",
      "Epoch 11/100\n",
      "17/17 [==============================] - 0s 20ms/step - loss: 1.6322 - accuracy: 0.4657 - val_loss: 1.6591 - val_accuracy: 0.4583\n",
      "Epoch 12/100\n",
      "17/17 [==============================] - 0s 20ms/step - loss: 1.5977 - accuracy: 0.4796 - val_loss: 1.6318 - val_accuracy: 0.4417\n",
      "Epoch 13/100\n",
      "17/17 [==============================] - 0s 20ms/step - loss: 1.5606 - accuracy: 0.4907 - val_loss: 1.6028 - val_accuracy: 0.4167\n",
      "Epoch 14/100\n",
      "17/17 [==============================] - 0s 20ms/step - loss: 1.5230 - accuracy: 0.5065 - val_loss: 1.5753 - val_accuracy: 0.4083\n",
      "Epoch 15/100\n",
      "17/17 [==============================] - 0s 20ms/step - loss: 1.4855 - accuracy: 0.5176 - val_loss: 1.5418 - val_accuracy: 0.4333\n",
      "Epoch 16/100\n",
      "17/17 [==============================] - 0s 20ms/step - loss: 1.4477 - accuracy: 0.5259 - val_loss: 1.5076 - val_accuracy: 0.4333\n",
      "Epoch 17/100\n",
      "17/17 [==============================] - 0s 22ms/step - loss: 1.4080 - accuracy: 0.5370 - val_loss: 1.4710 - val_accuracy: 0.4833\n",
      "Epoch 18/100\n",
      "17/17 [==============================] - 0s 21ms/step - loss: 1.3700 - accuracy: 0.5537 - val_loss: 1.4375 - val_accuracy: 0.5000\n",
      "Epoch 19/100\n",
      "17/17 [==============================] - 0s 21ms/step - loss: 1.3325 - accuracy: 0.5593 - val_loss: 1.4036 - val_accuracy: 0.5000\n",
      "Epoch 20/100\n",
      "17/17 [==============================] - 0s 21ms/step - loss: 1.2950 - accuracy: 0.5907 - val_loss: 1.3658 - val_accuracy: 0.5250\n",
      "Epoch 21/100\n",
      "17/17 [==============================] - 0s 21ms/step - loss: 1.2592 - accuracy: 0.6130 - val_loss: 1.3324 - val_accuracy: 0.5333\n",
      "Epoch 22/100\n",
      "17/17 [==============================] - 0s 20ms/step - loss: 1.2252 - accuracy: 0.6213 - val_loss: 1.3010 - val_accuracy: 0.5583\n",
      "Epoch 23/100\n",
      "17/17 [==============================] - 0s 21ms/step - loss: 1.1900 - accuracy: 0.6389 - val_loss: 1.2703 - val_accuracy: 0.5833\n",
      "Epoch 24/100\n",
      "17/17 [==============================] - 0s 20ms/step - loss: 1.1556 - accuracy: 0.6546 - val_loss: 1.2402 - val_accuracy: 0.5750\n",
      "Epoch 25/100\n",
      "17/17 [==============================] - 0s 20ms/step - loss: 1.1223 - accuracy: 0.6546 - val_loss: 1.2084 - val_accuracy: 0.5833\n",
      "Epoch 26/100\n",
      "17/17 [==============================] - 0s 21ms/step - loss: 1.0897 - accuracy: 0.6602 - val_loss: 1.1773 - val_accuracy: 0.5750\n",
      "Epoch 27/100\n",
      "17/17 [==============================] - 0s 20ms/step - loss: 1.0607 - accuracy: 0.6722 - val_loss: 1.1500 - val_accuracy: 0.5750\n",
      "Epoch 28/100\n",
      "17/17 [==============================] - 0s 20ms/step - loss: 1.0315 - accuracy: 0.6769 - val_loss: 1.1216 - val_accuracy: 0.5667\n",
      "Epoch 29/100\n",
      "17/17 [==============================] - 0s 21ms/step - loss: 1.0031 - accuracy: 0.6917 - val_loss: 1.0977 - val_accuracy: 0.5833\n",
      "Epoch 30/100\n",
      "17/17 [==============================] - 0s 21ms/step - loss: 0.9736 - accuracy: 0.6926 - val_loss: 1.0708 - val_accuracy: 0.5917\n",
      "Epoch 31/100\n",
      "17/17 [==============================] - 0s 20ms/step - loss: 0.9471 - accuracy: 0.7056 - val_loss: 1.0446 - val_accuracy: 0.6083\n",
      "Epoch 32/100\n",
      "17/17 [==============================] - 0s 20ms/step - loss: 0.9198 - accuracy: 0.7148 - val_loss: 1.0183 - val_accuracy: 0.6167\n",
      "Epoch 33/100\n",
      "17/17 [==============================] - 0s 19ms/step - loss: 0.8939 - accuracy: 0.7259 - val_loss: 0.9931 - val_accuracy: 0.6167\n",
      "Epoch 34/100\n",
      "17/17 [==============================] - 0s 21ms/step - loss: 0.8693 - accuracy: 0.7287 - val_loss: 0.9688 - val_accuracy: 0.6417\n",
      "Epoch 35/100\n",
      "17/17 [==============================] - 0s 21ms/step - loss: 0.8471 - accuracy: 0.7361 - val_loss: 0.9490 - val_accuracy: 0.6333\n",
      "Epoch 36/100\n",
      "17/17 [==============================] - 0s 20ms/step - loss: 0.8263 - accuracy: 0.7426 - val_loss: 0.9297 - val_accuracy: 0.6417\n",
      "Epoch 37/100\n",
      "17/17 [==============================] - 0s 21ms/step - loss: 0.8062 - accuracy: 0.7556 - val_loss: 0.9117 - val_accuracy: 0.6333\n",
      "Epoch 38/100\n",
      "17/17 [==============================] - 0s 20ms/step - loss: 0.7885 - accuracy: 0.7630 - val_loss: 0.8934 - val_accuracy: 0.6333\n",
      "Epoch 39/100\n",
      "17/17 [==============================] - 0s 21ms/step - loss: 0.7713 - accuracy: 0.7639 - val_loss: 0.8748 - val_accuracy: 0.6417\n",
      "Epoch 40/100\n",
      "17/17 [==============================] - 0s 20ms/step - loss: 0.7549 - accuracy: 0.7648 - val_loss: 0.8586 - val_accuracy: 0.6500\n",
      "Epoch 41/100\n",
      "17/17 [==============================] - 0s 20ms/step - loss: 0.7411 - accuracy: 0.7685 - val_loss: 0.8435 - val_accuracy: 0.6583\n",
      "Epoch 42/100\n",
      "17/17 [==============================] - 0s 21ms/step - loss: 0.7271 - accuracy: 0.7759 - val_loss: 0.8277 - val_accuracy: 0.6583\n",
      "Epoch 43/100\n",
      "17/17 [==============================] - 0s 21ms/step - loss: 0.7142 - accuracy: 0.7806 - val_loss: 0.8136 - val_accuracy: 0.6583\n",
      "Epoch 44/100\n",
      "17/17 [==============================] - 0s 20ms/step - loss: 0.7020 - accuracy: 0.7833 - val_loss: 0.8005 - val_accuracy: 0.6667\n",
      "Epoch 45/100\n",
      "17/17 [==============================] - 0s 20ms/step - loss: 0.6909 - accuracy: 0.7852 - val_loss: 0.7882 - val_accuracy: 0.6583\n",
      "Epoch 46/100\n",
      "17/17 [==============================] - 0s 20ms/step - loss: 0.6799 - accuracy: 0.7917 - val_loss: 0.7766 - val_accuracy: 0.6500\n",
      "Epoch 47/100\n",
      "17/17 [==============================] - 0s 20ms/step - loss: 0.6692 - accuracy: 0.7870 - val_loss: 0.7651 - val_accuracy: 0.6583\n",
      "Epoch 48/100\n",
      "17/17 [==============================] - 0s 20ms/step - loss: 0.6590 - accuracy: 0.7898 - val_loss: 0.7549 - val_accuracy: 0.6750\n",
      "Epoch 49/100\n",
      "17/17 [==============================] - 0s 20ms/step - loss: 0.6490 - accuracy: 0.7944 - val_loss: 0.7445 - val_accuracy: 0.6917\n",
      "Epoch 50/100\n",
      "17/17 [==============================] - 0s 20ms/step - loss: 0.6401 - accuracy: 0.7981 - val_loss: 0.7350 - val_accuracy: 0.6833\n",
      "Epoch 51/100\n",
      "17/17 [==============================] - 0s 21ms/step - loss: 0.6318 - accuracy: 0.7991 - val_loss: 0.7262 - val_accuracy: 0.6917\n",
      "Epoch 52/100\n",
      "17/17 [==============================] - 0s 21ms/step - loss: 0.6235 - accuracy: 0.7991 - val_loss: 0.7178 - val_accuracy: 0.6917\n",
      "Epoch 53/100\n",
      "17/17 [==============================] - 0s 21ms/step - loss: 0.6156 - accuracy: 0.8000 - val_loss: 0.7102 - val_accuracy: 0.7083\n",
      "Epoch 54/100\n",
      "17/17 [==============================] - 0s 21ms/step - loss: 0.6082 - accuracy: 0.8056 - val_loss: 0.7034 - val_accuracy: 0.7250\n",
      "Epoch 55/100\n",
      "17/17 [==============================] - 0s 21ms/step - loss: 0.6011 - accuracy: 0.8065 - val_loss: 0.6976 - val_accuracy: 0.7250\n",
      "Epoch 56/100\n",
      "17/17 [==============================] - 0s 21ms/step - loss: 0.5934 - accuracy: 0.8102 - val_loss: 0.6922 - val_accuracy: 0.7250\n",
      "Epoch 57/100\n",
      "17/17 [==============================] - 0s 21ms/step - loss: 0.5866 - accuracy: 0.8139 - val_loss: 0.6871 - val_accuracy: 0.7250\n",
      "Epoch 58/100\n",
      "17/17 [==============================] - 0s 21ms/step - loss: 0.5796 - accuracy: 0.8148 - val_loss: 0.6828 - val_accuracy: 0.7250\n",
      "Epoch 59/100\n"
     ]
    },
    {
     "name": "stdout",
     "output_type": "stream",
     "text": [
      "17/17 [==============================] - 0s 20ms/step - loss: 0.5732 - accuracy: 0.8213 - val_loss: 0.6782 - val_accuracy: 0.7250\n",
      "Epoch 60/100\n",
      "17/17 [==============================] - 0s 21ms/step - loss: 0.5661 - accuracy: 0.8231 - val_loss: 0.6736 - val_accuracy: 0.7333\n",
      "Epoch 61/100\n",
      "17/17 [==============================] - 0s 20ms/step - loss: 0.5592 - accuracy: 0.8259 - val_loss: 0.6697 - val_accuracy: 0.7250\n",
      "Epoch 62/100\n",
      "17/17 [==============================] - 0s 21ms/step - loss: 0.5530 - accuracy: 0.8269 - val_loss: 0.6648 - val_accuracy: 0.7250\n",
      "Epoch 63/100\n",
      "17/17 [==============================] - 0s 20ms/step - loss: 0.5468 - accuracy: 0.8287 - val_loss: 0.6606 - val_accuracy: 0.7250\n",
      "Epoch 64/100\n",
      "17/17 [==============================] - 0s 21ms/step - loss: 0.5412 - accuracy: 0.8324 - val_loss: 0.6557 - val_accuracy: 0.7250\n",
      "Epoch 65/100\n",
      "17/17 [==============================] - 0s 20ms/step - loss: 0.5348 - accuracy: 0.8370 - val_loss: 0.6516 - val_accuracy: 0.7250\n",
      "Epoch 66/100\n",
      "17/17 [==============================] - 0s 20ms/step - loss: 0.5299 - accuracy: 0.8343 - val_loss: 0.6471 - val_accuracy: 0.7333\n",
      "Epoch 67/100\n",
      "17/17 [==============================] - 0s 19ms/step - loss: 0.5241 - accuracy: 0.8343 - val_loss: 0.6429 - val_accuracy: 0.7333\n",
      "Epoch 68/100\n",
      "17/17 [==============================] - 0s 20ms/step - loss: 0.5189 - accuracy: 0.8343 - val_loss: 0.6393 - val_accuracy: 0.7500\n",
      "Epoch 69/100\n",
      "17/17 [==============================] - 0s 21ms/step - loss: 0.5141 - accuracy: 0.8352 - val_loss: 0.6358 - val_accuracy: 0.7417\n",
      "Epoch 70/100\n",
      "17/17 [==============================] - 0s 21ms/step - loss: 0.5092 - accuracy: 0.8361 - val_loss: 0.6322 - val_accuracy: 0.7500\n",
      "Epoch 71/100\n",
      "17/17 [==============================] - 0s 21ms/step - loss: 0.5040 - accuracy: 0.8370 - val_loss: 0.6281 - val_accuracy: 0.7417\n",
      "Epoch 72/100\n",
      "17/17 [==============================] - 0s 21ms/step - loss: 0.4999 - accuracy: 0.8389 - val_loss: 0.6239 - val_accuracy: 0.7500\n",
      "Epoch 73/100\n",
      "17/17 [==============================] - 0s 20ms/step - loss: 0.4955 - accuracy: 0.8389 - val_loss: 0.6199 - val_accuracy: 0.7583\n",
      "Epoch 74/100\n",
      "17/17 [==============================] - 0s 21ms/step - loss: 0.4916 - accuracy: 0.8370 - val_loss: 0.6162 - val_accuracy: 0.7583\n",
      "Epoch 75/100\n",
      "17/17 [==============================] - 0s 21ms/step - loss: 0.4873 - accuracy: 0.8389 - val_loss: 0.6122 - val_accuracy: 0.7667\n",
      "Epoch 76/100\n",
      "17/17 [==============================] - 0s 21ms/step - loss: 0.4830 - accuracy: 0.8426 - val_loss: 0.6082 - val_accuracy: 0.7667\n",
      "Epoch 77/100\n",
      "17/17 [==============================] - 0s 21ms/step - loss: 0.4792 - accuracy: 0.8435 - val_loss: 0.6043 - val_accuracy: 0.7750\n",
      "Epoch 78/100\n",
      "17/17 [==============================] - 0s 21ms/step - loss: 0.4752 - accuracy: 0.8454 - val_loss: 0.5995 - val_accuracy: 0.7750\n",
      "Epoch 79/100\n",
      "17/17 [==============================] - 0s 21ms/step - loss: 0.4715 - accuracy: 0.8463 - val_loss: 0.5959 - val_accuracy: 0.7750\n",
      "Epoch 80/100\n",
      "17/17 [==============================] - 0s 21ms/step - loss: 0.4682 - accuracy: 0.8472 - val_loss: 0.5924 - val_accuracy: 0.7750\n",
      "Epoch 81/100\n",
      "17/17 [==============================] - 0s 21ms/step - loss: 0.4649 - accuracy: 0.8463 - val_loss: 0.5889 - val_accuracy: 0.7833\n",
      "Epoch 82/100\n",
      "17/17 [==============================] - 0s 21ms/step - loss: 0.4612 - accuracy: 0.8481 - val_loss: 0.5867 - val_accuracy: 0.7750\n",
      "Epoch 83/100\n",
      "17/17 [==============================] - 0s 21ms/step - loss: 0.4577 - accuracy: 0.8491 - val_loss: 0.5838 - val_accuracy: 0.7750\n",
      "Epoch 84/100\n",
      "17/17 [==============================] - 0s 20ms/step - loss: 0.4552 - accuracy: 0.8481 - val_loss: 0.5802 - val_accuracy: 0.7833\n",
      "Epoch 85/100\n",
      "17/17 [==============================] - 0s 21ms/step - loss: 0.4518 - accuracy: 0.8481 - val_loss: 0.5781 - val_accuracy: 0.7667\n",
      "Epoch 86/100\n",
      "17/17 [==============================] - 0s 21ms/step - loss: 0.4488 - accuracy: 0.8463 - val_loss: 0.5747 - val_accuracy: 0.7750\n",
      "Epoch 87/100\n",
      "17/17 [==============================] - 0s 21ms/step - loss: 0.4457 - accuracy: 0.8500 - val_loss: 0.5718 - val_accuracy: 0.7917\n",
      "Epoch 88/100\n",
      "17/17 [==============================] - 0s 21ms/step - loss: 0.4428 - accuracy: 0.8500 - val_loss: 0.5685 - val_accuracy: 0.7833\n",
      "Epoch 89/100\n",
      "17/17 [==============================] - 0s 21ms/step - loss: 0.4399 - accuracy: 0.8509 - val_loss: 0.5657 - val_accuracy: 0.7917\n",
      "Epoch 90/100\n",
      "17/17 [==============================] - 0s 20ms/step - loss: 0.4371 - accuracy: 0.8509 - val_loss: 0.5621 - val_accuracy: 0.7917\n",
      "Epoch 91/100\n",
      "17/17 [==============================] - 0s 22ms/step - loss: 0.4342 - accuracy: 0.8509 - val_loss: 0.5602 - val_accuracy: 0.8000\n",
      "Epoch 92/100\n",
      "17/17 [==============================] - 0s 21ms/step - loss: 0.4312 - accuracy: 0.8537 - val_loss: 0.5564 - val_accuracy: 0.7917\n",
      "Epoch 93/100\n",
      "17/17 [==============================] - 0s 21ms/step - loss: 0.4284 - accuracy: 0.8528 - val_loss: 0.5549 - val_accuracy: 0.7917\n",
      "Epoch 94/100\n",
      "17/17 [==============================] - 0s 21ms/step - loss: 0.4258 - accuracy: 0.8546 - val_loss: 0.5507 - val_accuracy: 0.7917\n",
      "Epoch 95/100\n",
      "17/17 [==============================] - 0s 21ms/step - loss: 0.4229 - accuracy: 0.8593 - val_loss: 0.5494 - val_accuracy: 0.7917\n",
      "Epoch 96/100\n",
      "17/17 [==============================] - 0s 21ms/step - loss: 0.4201 - accuracy: 0.8593 - val_loss: 0.5457 - val_accuracy: 0.8000\n",
      "Epoch 97/100\n",
      "17/17 [==============================] - 0s 21ms/step - loss: 0.4173 - accuracy: 0.8602 - val_loss: 0.5445 - val_accuracy: 0.8000\n",
      "Epoch 98/100\n",
      "17/17 [==============================] - 0s 20ms/step - loss: 0.4151 - accuracy: 0.8630 - val_loss: 0.5404 - val_accuracy: 0.8000\n",
      "Epoch 99/100\n",
      "17/17 [==============================] - 0s 21ms/step - loss: 0.4124 - accuracy: 0.8630 - val_loss: 0.5391 - val_accuracy: 0.8000\n",
      "Epoch 100/100\n",
      "17/17 [==============================] - 0s 21ms/step - loss: 0.4099 - accuracy: 0.8657 - val_loss: 0.5356 - val_accuracy: 0.8083\n"
     ]
    }
   ],
   "source": [
    "train_dataset = tf.data.Dataset.from_tensor_slices((X_train, Y_train)).batch(64)\n",
    "test_dataset = tf.data.Dataset.from_tensor_slices((X_test, Y_test)).batch(64)\n",
    "history = conv_model.fit(train_dataset, epochs=100, validation_data=test_dataset)"
   ]
  },
  {
   "cell_type": "markdown",
   "id": "d2aa1b80",
   "metadata": {},
   "source": [
    "# 4 - History Object"
   ]
  },
  {
   "cell_type": "code",
   "execution_count": 16,
   "id": "58341890",
   "metadata": {
    "ExecuteTime": {
     "end_time": "2023-05-03T18:59:56.436334Z",
     "start_time": "2023-05-03T18:59:56.428317Z"
    }
   },
   "outputs": [
    {
     "data": {
      "text/plain": [
       "{'loss': [1.7933399677276611,\n",
       "  1.7848349809646606,\n",
       "  1.777950644493103,\n",
       "  1.7695542573928833,\n",
       "  1.7586132287979126,\n",
       "  1.7448192834854126,\n",
       "  1.7292300462722778,\n",
       "  1.7109414339065552,\n",
       "  1.68874990940094,\n",
       "  1.6627941131591797,\n",
       "  1.6322145462036133,\n",
       "  1.5976725816726685,\n",
       "  1.5605950355529785,\n",
       "  1.5230146646499634,\n",
       "  1.4855211973190308,\n",
       "  1.4477341175079346,\n",
       "  1.407984972000122,\n",
       "  1.3699570894241333,\n",
       "  1.332473635673523,\n",
       "  1.29497230052948,\n",
       "  1.259155035018921,\n",
       "  1.2251871824264526,\n",
       "  1.189995527267456,\n",
       "  1.1555933952331543,\n",
       "  1.1223092079162598,\n",
       "  1.089653491973877,\n",
       "  1.0607393980026245,\n",
       "  1.0314946174621582,\n",
       "  1.0031076669692993,\n",
       "  0.9736126065254211,\n",
       "  0.9471356868743896,\n",
       "  0.9197847843170166,\n",
       "  0.89390629529953,\n",
       "  0.8692613244056702,\n",
       "  0.8470820784568787,\n",
       "  0.826292872428894,\n",
       "  0.8061801195144653,\n",
       "  0.7885309457778931,\n",
       "  0.7713398337364197,\n",
       "  0.7549073696136475,\n",
       "  0.7411471605300903,\n",
       "  0.7270810604095459,\n",
       "  0.7141910791397095,\n",
       "  0.7019571661949158,\n",
       "  0.6909223794937134,\n",
       "  0.6798611283302307,\n",
       "  0.6692031025886536,\n",
       "  0.6589589715003967,\n",
       "  0.6489828824996948,\n",
       "  0.6401355266571045,\n",
       "  0.6317764520645142,\n",
       "  0.6235383749008179,\n",
       "  0.6155734062194824,\n",
       "  0.6081536412239075,\n",
       "  0.6011266112327576,\n",
       "  0.593433141708374,\n",
       "  0.5866318345069885,\n",
       "  0.5796434283256531,\n",
       "  0.5731521844863892,\n",
       "  0.5661036372184753,\n",
       "  0.5591708421707153,\n",
       "  0.5530166625976562,\n",
       "  0.5467882752418518,\n",
       "  0.5412180423736572,\n",
       "  0.5348201990127563,\n",
       "  0.5298555493354797,\n",
       "  0.5241276025772095,\n",
       "  0.5189119577407837,\n",
       "  0.5141142010688782,\n",
       "  0.5092372894287109,\n",
       "  0.5040379166603088,\n",
       "  0.49991375207901,\n",
       "  0.49551424384117126,\n",
       "  0.49161913990974426,\n",
       "  0.48732858896255493,\n",
       "  0.4830177128314972,\n",
       "  0.4792317748069763,\n",
       "  0.47520712018013,\n",
       "  0.47151321172714233,\n",
       "  0.4681949317455292,\n",
       "  0.46485915780067444,\n",
       "  0.46121805906295776,\n",
       "  0.4577212333679199,\n",
       "  0.4551650583744049,\n",
       "  0.4518149495124817,\n",
       "  0.4488368332386017,\n",
       "  0.44572845101356506,\n",
       "  0.44282233715057373,\n",
       "  0.4398553967475891,\n",
       "  0.43711912631988525,\n",
       "  0.4342179298400879,\n",
       "  0.43119099736213684,\n",
       "  0.4284188449382782,\n",
       "  0.42581209540367126,\n",
       "  0.4229179620742798,\n",
       "  0.4201327860355377,\n",
       "  0.4173170030117035,\n",
       "  0.4150691032409668,\n",
       "  0.4123510718345642,\n",
       "  0.40993204712867737],\n",
       " 'accuracy': [0.1935185194015503,\n",
       "  0.20648148655891418,\n",
       "  0.22870370745658875,\n",
       "  0.25740739703178406,\n",
       "  0.32870370149612427,\n",
       "  0.39814814925193787,\n",
       "  0.4268518388271332,\n",
       "  0.43981480598449707,\n",
       "  0.43796294927597046,\n",
       "  0.4703703820705414,\n",
       "  0.46574074029922485,\n",
       "  0.47962963581085205,\n",
       "  0.49074074625968933,\n",
       "  0.5064814686775208,\n",
       "  0.5175926089286804,\n",
       "  0.5259259343147278,\n",
       "  0.5370370149612427,\n",
       "  0.5537037253379822,\n",
       "  0.5592592358589172,\n",
       "  0.5907407402992249,\n",
       "  0.6129629611968994,\n",
       "  0.6212962865829468,\n",
       "  0.6388888955116272,\n",
       "  0.654629647731781,\n",
       "  0.654629647731781,\n",
       "  0.6601851582527161,\n",
       "  0.6722221970558167,\n",
       "  0.6768518686294556,\n",
       "  0.6916666626930237,\n",
       "  0.6925926208496094,\n",
       "  0.7055555582046509,\n",
       "  0.7148148417472839,\n",
       "  0.7259259223937988,\n",
       "  0.7287036776542664,\n",
       "  0.7361111044883728,\n",
       "  0.7425925731658936,\n",
       "  0.7555555701255798,\n",
       "  0.7629629373550415,\n",
       "  0.7638888955116272,\n",
       "  0.7648147940635681,\n",
       "  0.7685185074806213,\n",
       "  0.7759259343147278,\n",
       "  0.7805555462837219,\n",
       "  0.7833333611488342,\n",
       "  0.7851851582527161,\n",
       "  0.7916666865348816,\n",
       "  0.7870370149612427,\n",
       "  0.789814829826355,\n",
       "  0.7944444417953491,\n",
       "  0.7981481552124023,\n",
       "  0.7990740537643433,\n",
       "  0.7990740537643433,\n",
       "  0.800000011920929,\n",
       "  0.8055555820465088,\n",
       "  0.8064814805984497,\n",
       "  0.8101851940155029,\n",
       "  0.8138889074325562,\n",
       "  0.8148148059844971,\n",
       "  0.8212962746620178,\n",
       "  0.8231481313705444,\n",
       "  0.8259259462356567,\n",
       "  0.8268518447875977,\n",
       "  0.8287037014961243,\n",
       "  0.8324074149131775,\n",
       "  0.8370370268821716,\n",
       "  0.8342592716217041,\n",
       "  0.8342592716217041,\n",
       "  0.8342592716217041,\n",
       "  0.835185170173645,\n",
       "  0.8361111283302307,\n",
       "  0.8370370268821716,\n",
       "  0.8388888835906982,\n",
       "  0.8388888835906982,\n",
       "  0.8370370268821716,\n",
       "  0.8388888835906982,\n",
       "  0.8425925970077515,\n",
       "  0.8435184955596924,\n",
       "  0.845370352268219,\n",
       "  0.8462963104248047,\n",
       "  0.8472222089767456,\n",
       "  0.8462963104248047,\n",
       "  0.8481481671333313,\n",
       "  0.8490740656852722,\n",
       "  0.8481481671333313,\n",
       "  0.8481481671333313,\n",
       "  0.8462963104248047,\n",
       "  0.8500000238418579,\n",
       "  0.8500000238418579,\n",
       "  0.8509259223937988,\n",
       "  0.8509259223937988,\n",
       "  0.8509259223937988,\n",
       "  0.8537036776542664,\n",
       "  0.8527777791023254,\n",
       "  0.854629635810852,\n",
       "  0.8592592477798462,\n",
       "  0.8592592477798462,\n",
       "  0.8601852059364319,\n",
       "  0.8629629611968994,\n",
       "  0.8629629611968994,\n",
       "  0.8657407164573669],\n",
       " 'val_loss': [1.7906132936477661,\n",
       "  1.788737177848816,\n",
       "  1.7831014394760132,\n",
       "  1.7765406370162964,\n",
       "  1.766356110572815,\n",
       "  1.7543835639953613,\n",
       "  1.7410801649093628,\n",
       "  1.7254756689071655,\n",
       "  1.70663583278656,\n",
       "  1.6840198040008545,\n",
       "  1.659118890762329,\n",
       "  1.6317843198776245,\n",
       "  1.6028472185134888,\n",
       "  1.5753109455108643,\n",
       "  1.5418184995651245,\n",
       "  1.507590651512146,\n",
       "  1.4709651470184326,\n",
       "  1.43747079372406,\n",
       "  1.4036297798156738,\n",
       "  1.3658303022384644,\n",
       "  1.3323557376861572,\n",
       "  1.3009593486785889,\n",
       "  1.270321011543274,\n",
       "  1.2401667833328247,\n",
       "  1.2083708047866821,\n",
       "  1.177263855934143,\n",
       "  1.1499618291854858,\n",
       "  1.121621012687683,\n",
       "  1.0976980924606323,\n",
       "  1.0707794427871704,\n",
       "  1.0446254014968872,\n",
       "  1.018262505531311,\n",
       "  0.9930509924888611,\n",
       "  0.9688163995742798,\n",
       "  0.9490324854850769,\n",
       "  0.9297059178352356,\n",
       "  0.9116547703742981,\n",
       "  0.8934243321418762,\n",
       "  0.8747768402099609,\n",
       "  0.8585711121559143,\n",
       "  0.8434905409812927,\n",
       "  0.8276833891868591,\n",
       "  0.8136336207389832,\n",
       "  0.8005375266075134,\n",
       "  0.7881590127944946,\n",
       "  0.776610255241394,\n",
       "  0.765130877494812,\n",
       "  0.7548515796661377,\n",
       "  0.7444542646408081,\n",
       "  0.7349942326545715,\n",
       "  0.7262061834335327,\n",
       "  0.7178478240966797,\n",
       "  0.7102083563804626,\n",
       "  0.7033513188362122,\n",
       "  0.6976202726364136,\n",
       "  0.6921535730361938,\n",
       "  0.6871020197868347,\n",
       "  0.6828374862670898,\n",
       "  0.6782295107841492,\n",
       "  0.6736299991607666,\n",
       "  0.6697278618812561,\n",
       "  0.6647997498512268,\n",
       "  0.6606136560440063,\n",
       "  0.6556795835494995,\n",
       "  0.651604950428009,\n",
       "  0.6470698118209839,\n",
       "  0.6429206132888794,\n",
       "  0.6393030881881714,\n",
       "  0.635760486125946,\n",
       "  0.6321756839752197,\n",
       "  0.62807297706604,\n",
       "  0.6239454746246338,\n",
       "  0.6198930144309998,\n",
       "  0.6161515116691589,\n",
       "  0.6122329831123352,\n",
       "  0.6081580519676208,\n",
       "  0.6042596697807312,\n",
       "  0.5994881987571716,\n",
       "  0.5958754420280457,\n",
       "  0.5924181342124939,\n",
       "  0.588873028755188,\n",
       "  0.5866978764533997,\n",
       "  0.5837885737419128,\n",
       "  0.5801834464073181,\n",
       "  0.5780511498451233,\n",
       "  0.5747118592262268,\n",
       "  0.5717517137527466,\n",
       "  0.5685060024261475,\n",
       "  0.565686821937561,\n",
       "  0.5620908141136169,\n",
       "  0.5602438449859619,\n",
       "  0.5563868284225464,\n",
       "  0.5548773407936096,\n",
       "  0.5506576895713806,\n",
       "  0.5494294762611389,\n",
       "  0.5456820130348206,\n",
       "  0.5445388555526733,\n",
       "  0.5403830409049988,\n",
       "  0.539145290851593,\n",
       "  0.5356034636497498],\n",
       " 'val_accuracy': [0.18333333730697632,\n",
       "  0.1666666716337204,\n",
       "  0.21666666865348816,\n",
       "  0.2666666805744171,\n",
       "  0.3333333432674408,\n",
       "  0.3499999940395355,\n",
       "  0.3583333194255829,\n",
       "  0.40833333134651184,\n",
       "  0.4333333373069763,\n",
       "  0.4416666626930237,\n",
       "  0.4583333432674408,\n",
       "  0.4416666626930237,\n",
       "  0.4166666567325592,\n",
       "  0.40833333134651184,\n",
       "  0.4333333373069763,\n",
       "  0.4333333373069763,\n",
       "  0.4833333194255829,\n",
       "  0.5,\n",
       "  0.5,\n",
       "  0.5249999761581421,\n",
       "  0.5333333611488342,\n",
       "  0.5583333373069763,\n",
       "  0.5833333134651184,\n",
       "  0.574999988079071,\n",
       "  0.5833333134651184,\n",
       "  0.574999988079071,\n",
       "  0.574999988079071,\n",
       "  0.5666666626930237,\n",
       "  0.5833333134651184,\n",
       "  0.5916666388511658,\n",
       "  0.6083333492279053,\n",
       "  0.6166666746139526,\n",
       "  0.6166666746139526,\n",
       "  0.6416666507720947,\n",
       "  0.6333333253860474,\n",
       "  0.6416666507720947,\n",
       "  0.6333333253860474,\n",
       "  0.6333333253860474,\n",
       "  0.6416666507720947,\n",
       "  0.6499999761581421,\n",
       "  0.6583333611488342,\n",
       "  0.6583333611488342,\n",
       "  0.6583333611488342,\n",
       "  0.6666666865348816,\n",
       "  0.6583333611488342,\n",
       "  0.6499999761581421,\n",
       "  0.6583333611488342,\n",
       "  0.675000011920929,\n",
       "  0.6916666626930237,\n",
       "  0.6833333373069763,\n",
       "  0.6916666626930237,\n",
       "  0.6916666626930237,\n",
       "  0.7083333134651184,\n",
       "  0.7250000238418579,\n",
       "  0.7250000238418579,\n",
       "  0.7250000238418579,\n",
       "  0.7250000238418579,\n",
       "  0.7250000238418579,\n",
       "  0.7250000238418579,\n",
       "  0.7333333492279053,\n",
       "  0.7250000238418579,\n",
       "  0.7250000238418579,\n",
       "  0.7250000238418579,\n",
       "  0.7250000238418579,\n",
       "  0.7250000238418579,\n",
       "  0.7333333492279053,\n",
       "  0.7333333492279053,\n",
       "  0.75,\n",
       "  0.7416666746139526,\n",
       "  0.75,\n",
       "  0.7416666746139526,\n",
       "  0.75,\n",
       "  0.7583333253860474,\n",
       "  0.7583333253860474,\n",
       "  0.7666666507720947,\n",
       "  0.7666666507720947,\n",
       "  0.7749999761581421,\n",
       "  0.7749999761581421,\n",
       "  0.7749999761581421,\n",
       "  0.7749999761581421,\n",
       "  0.7833333611488342,\n",
       "  0.7749999761581421,\n",
       "  0.7749999761581421,\n",
       "  0.7833333611488342,\n",
       "  0.7666666507720947,\n",
       "  0.7749999761581421,\n",
       "  0.7916666865348816,\n",
       "  0.7833333611488342,\n",
       "  0.7916666865348816,\n",
       "  0.7916666865348816,\n",
       "  0.800000011920929,\n",
       "  0.7916666865348816,\n",
       "  0.7916666865348816,\n",
       "  0.7916666865348816,\n",
       "  0.7916666865348816,\n",
       "  0.800000011920929,\n",
       "  0.800000011920929,\n",
       "  0.800000011920929,\n",
       "  0.800000011920929,\n",
       "  0.8083333373069763]}"
      ]
     },
     "execution_count": 16,
     "metadata": {},
     "output_type": "execute_result"
    }
   ],
   "source": [
    "history.history"
   ]
  },
  {
   "cell_type": "code",
   "execution_count": 17,
   "id": "0d030589",
   "metadata": {
    "ExecuteTime": {
     "end_time": "2023-05-03T18:59:58.168848Z",
     "start_time": "2023-05-03T18:59:57.755290Z"
    }
   },
   "outputs": [
    {
     "name": "stderr",
     "output_type": "stream",
     "text": [
      "/tmp/ipykernel_84/973814028.py:5: SettingWithCopyWarning: \n",
      "A value is trying to be set on a copy of a slice from a DataFrame\n",
      "\n",
      "See the caveats in the documentation: https://pandas.pydata.org/pandas-docs/stable/user_guide/indexing.html#returning-a-view-versus-a-copy\n",
      "  df_loss.rename(columns={'loss':'train','val_loss':'validation'},inplace=True)\n",
      "/tmp/ipykernel_84/973814028.py:7: SettingWithCopyWarning: \n",
      "A value is trying to be set on a copy of a slice from a DataFrame\n",
      "\n",
      "See the caveats in the documentation: https://pandas.pydata.org/pandas-docs/stable/user_guide/indexing.html#returning-a-view-versus-a-copy\n",
      "  df_acc.rename(columns={'accuracy':'train','val_accuracy':'validation'},inplace=True)\n"
     ]
    },
    {
     "data": {
      "text/plain": [
       "[Text(0.5, 0, 'Epoch'), Text(0, 0.5, 'Accuracy')]"
      ]
     },
     "execution_count": 17,
     "metadata": {},
     "output_type": "execute_result"
    },
    {
     "data": {
      "image/png": "[encoded data removed]",
      "text/plain": [
       "<Figure size 1200x800 with 1 Axes>"
      ]
     },
     "metadata": {},
     "output_type": "display_data"
    },
    {
     "data": {
      "image/png": "[encoded data removed]",
      "text/plain": [
       "<Figure size 1200x800 with 1 Axes>"
      ]
     },
     "metadata": {},
     "output_type": "display_data"
    }
   ],
   "source": [
    "# The history.history[\"loss\"] entry is a dictionary with as many values as epochs that the\n",
    "# model was trained on. \n",
    "df_loss_acc = pd.DataFrame(history.history)\n",
    "df_loss= df_loss_acc[['loss','val_loss']]\n",
    "df_loss.rename(columns={'loss':'train','val_loss':'validation'},inplace=True)\n",
    "df_acc= df_loss_acc[['accuracy','val_accuracy']]\n",
    "df_acc.rename(columns={'accuracy':'train','val_accuracy':'validation'},inplace=True)\n",
    "df_loss.plot(title='Model loss',figsize=(12,8)).set(xlabel='Epoch',ylabel='Loss')\n",
    "df_acc.plot(title='Model Accuracy',figsize=(12,8)).set(xlabel='Epoch',ylabel='Accuracy')"
   ]
  }
 ],
 "metadata": {
  "kernelspec": {
   "display_name": "Python 3 (ipykernel)",
   "language": "python",
   "name": "python3"
  },
  "language_info": {
   "codemirror_mode": {
    "name": "ipython",
    "version": 3
   },
   "file_extension": ".py",
   "mimetype": "text/x-python",
   "name": "python",
   "nbconvert_exporter": "python",
   "pygments_lexer": "ipython3",
   "version": "3.10.6"
  },
  "toc": {
   "base_numbering": 1,
   "nav_menu": {},
   "number_sections": true,
   "sideBar": true,
   "skip_h1_title": false,
   "title_cell": "Table of Contents",
   "title_sidebar": "Contents",
   "toc_cell": false,
   "toc_position": {},
   "toc_section_display": true,
   "toc_window_display": false
  }
 },
 "nbformat": 4,
 "nbformat_minor": 5
}
