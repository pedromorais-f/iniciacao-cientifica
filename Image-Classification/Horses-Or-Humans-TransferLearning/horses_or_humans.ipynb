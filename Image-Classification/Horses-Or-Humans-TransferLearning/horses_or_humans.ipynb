{
 "cells": [
  {
   "cell_type": "code",
   "execution_count": 11,
   "id": "724178c2",
   "metadata": {
    "ExecuteTime": {
     "end_time": "2023-06-03T18:14:12.939392Z",
     "start_time": "2023-06-03T18:14:12.934873Z"
    }
   },
   "outputs": [],
   "source": [
    "import os\n",
    "import pandas as pd\n",
    "\n",
    "def make_dataframe(path, label):\n",
    "    file_names = []\n",
    "    \n",
    "    #Getting the name of the images to put in dataframe\n",
    "    for name_dir, _, filenames in os.walk(path):\n",
    "        for filename in filenames:\n",
    "            file_names.append(filename)\n",
    "    \n",
    "    data = pd.DataFrame()\n",
    "    \n",
    "    #Creating the dataframe for images and the labels\n",
    "    #Labels = 0 for horses, 1 for humans\n",
    "    data['images'] = file_names\n",
    "    data['labels'] = label\n",
    "    \n",
    "    return data"
   ]
  },
  {
   "cell_type": "code",
   "execution_count": 15,
   "id": "4abb4c65",
   "metadata": {
    "ExecuteTime": {
     "end_time": "2023-06-03T18:15:23.064285Z",
     "start_time": "2023-06-03T18:15:23.059410Z"
    }
   },
   "outputs": [],
   "source": [
    "def make_dataset(d_type):\n",
    "    #Making dataframe for humans and horses and putting his labels\n",
    "    dataset_humans = make_dataframe(\"horse-or-human/\" + d_type + \"/humans\", 1)\n",
    "    dataset_horses = make_dataframe(\"horse-or-human/\" + d_type + \"/horses\", 0)\n",
    "    \n",
    "    #Concat the two datasets and getting random samples\n",
    "    dataset = pd.concat([dataset_horses, dataset_humans])\n",
    "    dataset = dataset.sample(frac=1)\n",
    "    \n",
    "    return dataset"
   ]
  },
  {
   "cell_type": "code",
   "execution_count": 16,
   "id": "8776b600",
   "metadata": {
    "ExecuteTime": {
     "end_time": "2023-06-03T18:15:23.551430Z",
     "start_time": "2023-06-03T18:15:23.526962Z"
    }
   },
   "outputs": [
    {
     "name": "stdout",
     "output_type": "stream",
     "text": [
      "             images  labels\n",
      "310  human01-19.png       1\n",
      "70    horse13-7.png       0\n",
      "160   horse22-9.png       0\n",
      "44    horse12-4.png       0\n",
      "10    horse14-4.png       0\n",
      "..              ...     ...\n",
      "362   horse17-9.png       0\n",
      "434   horse03-4.png       0\n",
      "487  human15-29.png       1\n",
      "493   horse41-8.png       0\n",
      "416   horse27-0.png       0\n",
      "\n",
      "[1027 rows x 2 columns]\n",
      "                images  labels\n",
      "28   valhuman01-24.png       1\n",
      "112     horse4-501.png       0\n",
      "124     horse5-565.png       0\n",
      "105     horse6-064.png       0\n",
      "64   valhuman03-19.png       1\n",
      "..                 ...     ...\n",
      "82      horse3-171.png       0\n",
      "110     horse1-411.png       0\n",
      "78   valhuman02-20.png       1\n",
      "116  valhuman03-08.png       1\n",
      "16      horse4-495.png       0\n",
      "\n",
      "[256 rows x 2 columns]\n"
     ]
    }
   ],
   "source": [
    "dataset_train = make_dataset(\"train\")\n",
    "dataset_val = make_dataset(\"validation\")\n",
    "\n",
    "print(dataset_train)\n",
    "print(dataset_val)"
   ]
  },
  {
   "cell_type": "code",
   "execution_count": null,
   "id": "396608de",
   "metadata": {},
   "outputs": [],
   "source": [
    "#Datset Class\n",
    "from torch.utils.data import Dataset\n",
    "\n",
    "class HorsesOrHumansDataset(Dataset):\n",
    "    def __init__(self, dataframe, transform, target_transform, d_type):\n",
    "        self.labels = dataframe['labels'].values\n",
    "        self.images = dataframe['images'].values\n",
    "        self.transform = transform\n",
    "        self.target_transform = target_transform\n",
    "    \n",
    "    def __len__(self):\n",
    "        return len(self.labels)\n",
    "    \n",
    "    def __getitem__():\n",
    "    "
   ]
  }
 ],
 "metadata": {
  "kernelspec": {
   "display_name": "Python 3 (ipykernel)",
   "language": "python",
   "name": "python3"
  },
  "language_info": {
   "codemirror_mode": {
    "name": "ipython",
    "version": 3
   },
   "file_extension": ".py",
   "mimetype": "text/x-python",
   "name": "python",
   "nbconvert_exporter": "python",
   "pygments_lexer": "ipython3",
   "version": "3.10.6"
  },
  "toc": {
   "base_numbering": 1,
   "nav_menu": {},
   "number_sections": true,
   "sideBar": true,
   "skip_h1_title": false,
   "title_cell": "Table of Contents",
   "title_sidebar": "Contents",
   "toc_cell": false,
   "toc_position": {},
   "toc_section_display": true,
   "toc_window_display": false
  }
 },
 "nbformat": 4,
 "nbformat_minor": 5
}
