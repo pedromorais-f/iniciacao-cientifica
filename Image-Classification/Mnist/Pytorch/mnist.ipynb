{
 "cells": [
  {
   "cell_type": "code",
   "execution_count": 2,
   "id": "2f42f290",
   "metadata": {
    "ExecuteTime": {
     "end_time": "2023-06-03T02:50:14.425134Z",
     "start_time": "2023-06-03T02:50:14.262375Z"
    }
   },
   "outputs": [
    {
     "name": "stdout",
     "output_type": "stream",
     "text": [
      "torch.Size([60000, 28, 28])\n",
      "torch.Size([10000, 28, 28])\n"
     ]
    }
   ],
   "source": [
    "#Getting the train's data and test's data\n",
    "from torchvision.datasets import MNIST\n",
    "from torchvision.transforms import Compose, ToTensor, Normalize\n",
    "\n",
    "transform = Compose([\n",
    "    ToTensor(),\n",
    "    Normalize((0.5,), (0.5,))\n",
    "])\n",
    "\n",
    "data_train = MNIST(root=\"./\", download=True, train=True, transform=transform)\n",
    "data_test = MNIST(root=\"./\", download=True, train=False, transform=transform)\n",
    "\n",
    "print(data_train.data.size())\n",
    "print(data_test.data.size())"
   ]
  },
  {
   "cell_type": "code",
   "execution_count": 3,
   "id": "26d788ba",
   "metadata": {
    "ExecuteTime": {
     "end_time": "2023-06-03T02:50:15.037625Z",
     "start_time": "2023-06-03T02:50:15.015291Z"
    }
   },
   "outputs": [],
   "source": [
    "#Setting a variable to work with GPU\n",
    "import torch\n",
    "\n",
    "device = torch.device('cuda' if torch.cuda.is_available() else 'cpu')"
   ]
  },
  {
   "cell_type": "code",
   "execution_count": 4,
   "id": "39c6b570",
   "metadata": {
    "ExecuteTime": {
     "end_time": "2023-06-03T02:50:15.768427Z",
     "start_time": "2023-06-03T02:50:15.763847Z"
    }
   },
   "outputs": [],
   "source": [
    "#Loading data\n",
    "from torch.utils.data import DataLoader\n",
    "\n",
    "train_loaded = DataLoader(data_train, batch_size=32, shuffle=True)\n",
    "test_loaded = DataLoader(data_test, batch_size=32, shuffle=True)"
   ]
  },
  {
   "cell_type": "code",
   "execution_count": 5,
   "id": "6099b129",
   "metadata": {
    "ExecuteTime": {
     "end_time": "2023-06-03T02:50:16.766728Z",
     "start_time": "2023-06-03T02:50:16.760108Z"
    }
   },
   "outputs": [],
   "source": [
    "#Creating MNIST model\n",
    "from torch import nn\n",
    "\n",
    "class MnistModel(nn.Module):\n",
    "    def __init__(self):\n",
    "        super(MnistModel, self).__init__()\n",
    "        self.cnn_layers = nn.Sequential(\n",
    "            #CONV1\n",
    "            nn.Conv2d(1, 6, 3),\n",
    "            nn.ReLU(),\n",
    "            nn.MaxPool2d(2),\n",
    "            \n",
    "            #CONV2\n",
    "            nn.Conv2d(6, 32, 3),\n",
    "            nn.ReLU(),\n",
    "            nn.MaxPool2d(2),\n",
    "        )\n",
    "        \n",
    "        self.linear_layers = nn.Sequential(\n",
    "            nn.Linear(32*5*5, 200),\n",
    "            nn.ReLU(),\n",
    "            nn.Linear(200, 80),\n",
    "            nn.ReLU(),\n",
    "            nn.Linear(80, 10),\n",
    "        )\n",
    "    def forward(self, x):\n",
    "        x = self.cnn_layers(x)\n",
    "        x = x.view(x.size(0), -1)\n",
    "        x = self.linear_layers(x)\n",
    "        return x"
   ]
  },
  {
   "cell_type": "code",
   "execution_count": 6,
   "id": "d9f7060d",
   "metadata": {
    "ExecuteTime": {
     "end_time": "2023-06-03T02:50:18.981934Z",
     "start_time": "2023-06-03T02:50:17.543536Z"
    }
   },
   "outputs": [
    {
     "data": {
      "text/plain": [
       "MnistModel(\n",
       "  (cnn_layers): Sequential(\n",
       "    (0): Conv2d(1, 6, kernel_size=(3, 3), stride=(1, 1))\n",
       "    (1): ReLU()\n",
       "    (2): MaxPool2d(kernel_size=2, stride=2, padding=0, dilation=1, ceil_mode=False)\n",
       "    (3): Conv2d(6, 32, kernel_size=(3, 3), stride=(1, 1))\n",
       "    (4): ReLU()\n",
       "    (5): MaxPool2d(kernel_size=2, stride=2, padding=0, dilation=1, ceil_mode=False)\n",
       "  )\n",
       "  (linear_layers): Sequential(\n",
       "    (0): Linear(in_features=800, out_features=200, bias=True)\n",
       "    (1): ReLU()\n",
       "    (2): Linear(in_features=200, out_features=80, bias=True)\n",
       "    (3): ReLU()\n",
       "    (4): Linear(in_features=80, out_features=10, bias=True)\n",
       "  )\n",
       ")"
      ]
     },
     "execution_count": 6,
     "metadata": {},
     "output_type": "execute_result"
    }
   ],
   "source": [
    "#Putting the MnistModel into a variable\n",
    "model = MnistModel()\n",
    "model.to(device)"
   ]
  },
  {
   "cell_type": "code",
   "execution_count": 7,
   "id": "b174e8f8",
   "metadata": {
    "ExecuteTime": {
     "end_time": "2023-06-03T02:50:21.244229Z",
     "start_time": "2023-06-03T02:50:21.236378Z"
    }
   },
   "outputs": [],
   "source": [
    "#Defining an optimizer and loss\n",
    "from torch import optim\n",
    "\n",
    "optimizer = optim.Adam(model.parameters(), lr=0.01)\n",
    "criterion = nn.CrossEntropyLoss()"
   ]
  },
  {
   "cell_type": "code",
   "execution_count": 8,
   "id": "2a8157f3",
   "metadata": {
    "ExecuteTime": {
     "end_time": "2023-06-03T02:52:34.806955Z",
     "start_time": "2023-06-03T02:50:21.999289Z"
    },
    "scrolled": true
   },
   "outputs": [
    {
     "name": "stderr",
     "output_type": "stream",
     "text": [
      "Fitting Epoch 1: 1875it [00:25, 74.33it/s]\n",
      "Validating the model: 313it [00:02, 105.70it/s]\n"
     ]
    },
    {
     "name": "stdout",
     "output_type": "stream",
     "text": [
      "Epoch: 1/5   Training loss: 0.1659   Testing loss: 0.0800   Train accuracy: 0.9529   Test accuracy: 0.9762  \n"
     ]
    },
    {
     "name": "stderr",
     "output_type": "stream",
     "text": [
      "Fitting Epoch 2: 1875it [00:21, 88.46it/s]\n",
      "Validating the model: 313it [00:03, 88.43it/s]\n"
     ]
    },
    {
     "name": "stdout",
     "output_type": "stream",
     "text": [
      "Epoch: 2/5   Training loss: 0.1054   Testing loss: 0.1074   Train accuracy: 0.9726   Test accuracy: 0.9729  \n"
     ]
    },
    {
     "name": "stderr",
     "output_type": "stream",
     "text": [
      "Fitting Epoch 3: 1875it [00:27, 67.99it/s]\n",
      "Validating the model: 313it [00:03, 86.49it/s]\n"
     ]
    },
    {
     "name": "stdout",
     "output_type": "stream",
     "text": [
      "Epoch: 3/5   Training loss: 0.1108   Testing loss: 0.1007   Train accuracy: 0.9736   Test accuracy: 0.9742  \n"
     ]
    },
    {
     "name": "stderr",
     "output_type": "stream",
     "text": [
      "Fitting Epoch 4: 1875it [00:21, 89.21it/s]\n",
      "Validating the model: 313it [00:03, 101.73it/s]\n"
     ]
    },
    {
     "name": "stdout",
     "output_type": "stream",
     "text": [
      "Epoch: 4/5   Training loss: 0.0968   Testing loss: 0.1078   Train accuracy: 0.9778   Test accuracy: 0.9764  \n"
     ]
    },
    {
     "name": "stderr",
     "output_type": "stream",
     "text": [
      "Fitting Epoch 5: 1875it [00:21, 89.10it/s]\n",
      "Validating the model: 313it [00:03, 89.24it/s]"
     ]
    },
    {
     "name": "stdout",
     "output_type": "stream",
     "text": [
      "Epoch: 5/5   Training loss: 0.0884   Testing loss: 0.1102   Train accuracy: 0.9798   Test accuracy: 0.9763  \n"
     ]
    },
    {
     "name": "stderr",
     "output_type": "stream",
     "text": [
      "\n"
     ]
    }
   ],
   "source": [
    "#Training the model\n",
    "from tqdm import tqdm\n",
    "#Defining the numbers of epochs\n",
    "epochs = 5\n",
    "\n",
    "#Lists to get all the data about training\n",
    "train_loss, test_loss = [], []\n",
    "accuracy_train, accuracy_test = [], []\n",
    "\n",
    "for epoch in range(epochs):\n",
    "    total_train_loss = 0\n",
    "    total_test_loss = 0\n",
    "    \n",
    "    model.train()\n",
    "    \n",
    "    total = 0\n",
    "    for (image, label) in tqdm(train_loaded, desc=f\"Fitting Epoch {epoch + 1}\"):\n",
    "        image, label = image.to(device), label.to(device)\n",
    "        \n",
    "        optimizer.zero_grad()\n",
    "        \n",
    "        pred = model(image)\n",
    "        \n",
    "        loss = criterion(pred, label)\n",
    "        total_train_loss += loss.item()\n",
    "        \n",
    "        loss.backward()\n",
    "        optimizer.step()\n",
    "        \n",
    "        pred = nn.functional.softmax(pred, dim=1)\n",
    "        for i, p in enumerate(pred):\n",
    "            if label[i] == torch.max(p.data, 0)[1]:\n",
    "                total = total + 1\n",
    "    \n",
    "    train_accuracy = total / len(data_train)\n",
    "    total_train_loss = total_train_loss / (index + 1)\n",
    "    \n",
    "    accuracy_train.append(train_accuracy)\n",
    "    train_loss.append(total_train_loss)\n",
    "    \n",
    "    #Validating the model\n",
    "    model.eval()\n",
    "    total = 0\n",
    "    for (image, label) in tqdm(test_loaded, desc=\"Validating the model\"):\n",
    "        image, label = image.to(device), label.to(device)\n",
    "        pred = model(image)\n",
    "        \n",
    "        loss = criterion(pred, label)\n",
    "        total_test_loss += loss.item()\n",
    "        \n",
    "        pred = nn.functional.softmax(pred, dim=1)\n",
    "        for i, p in enumerate(pred):\n",
    "            if label[i] == torch.max(p.data, 0)[1]:\n",
    "                total = total + 1\n",
    "    test_accuracy = total / len(data_test)\n",
    "    total_test_loss = total_test_loss / (index + 1)\n",
    "    \n",
    "    accuracy_test.append(test_accuracy)\n",
    "    test_loss.append(total_test_loss)\n",
    "    \n",
    "    print(\"Epoch: {}/{}  \".format(epoch + 1, epochs),\n",
    "            \"Training loss: {:.4f}  \".format(total_train_loss),\n",
    "            \"Testing loss: {:.4f}  \".format(total_test_loss),\n",
    "            \"Train accuracy: {:.4f}  \".format(train_accuracy),\n",
    "            \"Test accuracy: {:.4f}  \".format(test_accuracy))"
   ]
  },
  {
   "cell_type": "code",
   "execution_count": 55,
   "id": "ec06a920",
   "metadata": {
    "ExecuteTime": {
     "end_time": "2023-06-03T04:00:58.332090Z",
     "start_time": "2023-06-03T04:00:55.777435Z"
    }
   },
   "outputs": [
    {
     "name": "stderr",
     "output_type": "stream",
     "text": [
      "Getting accuracy: 100%|██████████████████████████████████████████████████████████████| 313/313 [00:02<00:00, 122.90it/s]"
     ]
    },
    {
     "name": "stdout",
     "output_type": "stream",
     "text": [
      "Test set: Average loss: 1103.4817, Accuracy: 9763/10000, 97.63)\n",
      "\n"
     ]
    },
    {
     "name": "stderr",
     "output_type": "stream",
     "text": [
      "\n"
     ]
    }
   ],
   "source": [
    "#Getting the Final Accuracy of the model\n",
    "import torch.nn.functional as F\n",
    "\n",
    "model.eval()\n",
    "t_loss = 0\n",
    "correct = 0\n",
    "with torch.no_grad():\n",
    "    for imgs, labels in tqdm(test_loaded, desc=\"Getting accuracy\"):\n",
    "        imgs, labels = imgs.to(device), labels.to(device)\n",
    "        output = model(imgs)\n",
    "        t_loss += F.cross_entropy(output, labels, reduction=\"sum\").item()\n",
    "\n",
    "        pred = output.max(1, keepdim=True)[1]\n",
    "        correct += pred.eq(labels.view_as(pred)).sum().item()\n",
    "\n",
    "test_loss /= len(test_loaded.dataset)\n",
    "print(\n",
    "    \"Test set: Average loss: {:.4f}, Accuracy: {}/{}, {})\\n\".format(\n",
    "        t_loss, correct, len(test_loaded.dataset), 100.0 * correct / len(test_loaded.dataset)\n",
    "    )\n",
    ")"
   ]
  },
  {
   "cell_type": "code",
   "execution_count": 53,
   "id": "3f00be3b",
   "metadata": {
    "ExecuteTime": {
     "end_time": "2023-06-03T03:58:28.689578Z",
     "start_time": "2023-06-03T03:58:28.664515Z"
    }
   },
   "outputs": [
    {
     "name": "stdout",
     "output_type": "stream",
     "text": [
      "Model Saved\n"
     ]
    }
   ],
   "source": [
    "#Saving the model and the model parameters\n",
    "torch.save(model.state_dict(),\"../Pytorch/Model/model.pth\")\n",
    "torch.save(optimizer.state_dict(), \"../Pytorch/Model/optimizer.pth\")\n",
    "print(\"Model Saved\")"
   ]
  }
 ],
 "metadata": {
  "kernelspec": {
   "display_name": "Python 3 (ipykernel)",
   "language": "python",
   "name": "python3"
  },
  "language_info": {
   "codemirror_mode": {
    "name": "ipython",
    "version": 3
   },
   "file_extension": ".py",
   "mimetype": "text/x-python",
   "name": "python",
   "nbconvert_exporter": "python",
   "pygments_lexer": "ipython3",
   "version": "3.10.6"
  },
  "toc": {
   "base_numbering": 1,
   "nav_menu": {},
   "number_sections": true,
   "sideBar": true,
   "skip_h1_title": false,
   "title_cell": "Table of Contents",
   "title_sidebar": "Contents",
   "toc_cell": false,
   "toc_position": {},
   "toc_section_display": true,
   "toc_window_display": false
  }
 },
 "nbformat": 4,
 "nbformat_minor": 5
}
