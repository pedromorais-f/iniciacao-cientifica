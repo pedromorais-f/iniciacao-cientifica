{
 "cells": [
  {
   "cell_type": "code",
   "execution_count": 14,
   "id": "2f42f290",
   "metadata": {
    "ExecuteTime": {
     "end_time": "2023-05-26T03:31:05.768146Z",
     "start_time": "2023-05-26T03:31:05.734944Z"
    }
   },
   "outputs": [
    {
     "name": "stdout",
     "output_type": "stream",
     "text": [
      "60000\n",
      "10000\n"
     ]
    }
   ],
   "source": [
    "#Getting the train's data and test's data\n",
    "from torchvision.datasets import MNIST\n",
    "from torchvision.transforms import Compose, ToTensor, Normalize\n",
    "\n",
    "transform = Compose([\n",
    "    ToTensor(),\n",
    "    Normalize((0.5,), (0.5,))\n",
    "])\n",
    "\n",
    "data_train = MNIST(root=\"./\", download=True, train=True, transform=transform)\n",
    "data_test = MNIST(root=\"./\", download=True, train=False, transform=transform)\n",
    "\n",
    "print(len(data_train))\n",
    "print(len(data_test))"
   ]
  },
  {
   "cell_type": "code",
   "execution_count": 15,
   "id": "26d788ba",
   "metadata": {
    "ExecuteTime": {
     "end_time": "2023-05-26T03:31:12.441777Z",
     "start_time": "2023-05-26T03:31:12.438513Z"
    }
   },
   "outputs": [],
   "source": [
    "#Setting a variable to work with GPU\n",
    "import torch\n",
    "\n",
    "device = torch.device('cuda' if torch.cuda.is_available() else 'cpu')"
   ]
  },
  {
   "cell_type": "code",
   "execution_count": 16,
   "id": "39c6b570",
   "metadata": {
    "ExecuteTime": {
     "end_time": "2023-05-26T03:31:12.962880Z",
     "start_time": "2023-05-26T03:31:12.958464Z"
    }
   },
   "outputs": [],
   "source": [
    "#Loading data\n",
    "from torch.utils.data import DataLoader\n",
    "\n",
    "train_loaded = DataLoader(data_train, batch_size=64, shuffle=True)\n",
    "test_loaded = DataLoader(data_test, batch_size=64, shuffle=True)"
   ]
  },
  {
   "cell_type": "code",
   "execution_count": 24,
   "id": "6099b129",
   "metadata": {
    "ExecuteTime": {
     "end_time": "2023-05-26T03:57:37.196166Z",
     "start_time": "2023-05-26T03:57:37.191475Z"
    }
   },
   "outputs": [],
   "source": [
    "#Creating MNIST model\n",
    "from torch import nn\n",
    "\n",
    "class MnistModel(nn.Module):\n",
    "    def __init__(self):\n",
    "        super().__init__()\n",
    "        self.layers = nn.Sequential(\n",
    "            #Conv1\n",
    "            nn.Conv2d(1, 32, (3, 3)),\n",
    "            nn.ReLU(),\n",
    "            nn.MaxPool2d((2, 2)),\n",
    "            \n",
    "            #Conv2\n",
    "            nn.Conv2d(32, 64, (3, 3)),\n",
    "            nn.ReLU(),\n",
    "            nn.MaxPool2d((2, 2)),\n",
    "            \n",
    "            #Fully Conected\n",
    "            nn.Flatten(),\n",
    "            nn.Linear(16 * 5 * 5, 64),\n",
    "            nn.ReLU(),\n",
    "            nn.Linear(64, 10),\n",
    "            nn.LogSoftmax()\n",
    "        )\n",
    "    \n",
    "    def forward(self):\n",
    "        return self.layers"
   ]
  },
  {
   "cell_type": "code",
   "execution_count": 25,
   "id": "d9f7060d",
   "metadata": {
    "ExecuteTime": {
     "end_time": "2023-05-26T03:57:38.032095Z",
     "start_time": "2023-05-26T03:57:38.023402Z"
    }
   },
   "outputs": [],
   "source": [
    "#Putting the MnistModel into a variable\n",
    "model = MnistModel().to(device)"
   ]
  },
  {
   "cell_type": "code",
   "execution_count": 22,
   "id": "d55f140b",
   "metadata": {
    "ExecuteTime": {
     "end_time": "2023-05-26T03:47:41.779736Z",
     "start_time": "2023-05-26T03:47:41.774919Z"
    }
   },
   "outputs": [],
   "source": [
    "#Defining loss function and optimization function\n",
    "from torch import optim\n",
    "\n",
    "learning_rate = 0.001 \n",
    "\n",
    "loss_func = nn.CrossEntropyLoss()\n",
    "optimizer = optim.Adam(model.parameters(), lr=learning_rate)"
   ]
  },
  {
   "cell_type": "code",
   "execution_count": null,
   "id": "40354bde",
   "metadata": {},
   "outputs": [],
   "source": [
    "#Training the model\n",
    "from tqdm import tqdm"
   ]
  }
 ],
 "metadata": {
  "kernelspec": {
   "display_name": "Python 3 (ipykernel)",
   "language": "python",
   "name": "python3"
  },
  "language_info": {
   "codemirror_mode": {
    "name": "ipython",
    "version": 3
   },
   "file_extension": ".py",
   "mimetype": "text/x-python",
   "name": "python",
   "nbconvert_exporter": "python",
   "pygments_lexer": "ipython3",
   "version": "3.10.6"
  },
  "toc": {
   "base_numbering": 1,
   "nav_menu": {},
   "number_sections": true,
   "sideBar": true,
   "skip_h1_title": false,
   "title_cell": "Table of Contents",
   "title_sidebar": "Contents",
   "toc_cell": false,
   "toc_position": {},
   "toc_section_display": true,
   "toc_window_display": false
  }
 },
 "nbformat": 4,
 "nbformat_minor": 5
}
